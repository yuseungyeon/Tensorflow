{
  "nbformat": 4,
  "nbformat_minor": 0,
  "metadata": {
    "colab": {
      "name": "tensorflow_eager_execution.ipynb",
      "provenance": [],
      "authorship_tag": "ABX9TyNcEN2ms1m06Aw5l1ih0lJH"
    },
    "kernelspec": {
      "name": "python3",
      "display_name": "Python 3"
    },
    "language_info": {
      "name": "python"
    },
    "accelerator": "GPU"
  },
  "cells": [
    {
      "cell_type": "code",
      "metadata": {
        "colab": {
          "base_uri": "https://localhost:8080/"
        },
        "id": "UxyL37YKeQtr",
        "outputId": "ccf4674c-2e1b-4fb4-98e1-c106b7f10892"
      },
      "source": [
        "import tensorflow as tf\n",
        "print(tf.test.is_gpu_available())"
      ],
      "execution_count": 2,
      "outputs": [
        {
          "output_type": "stream",
          "name": "stdout",
          "text": [
            "WARNING:tensorflow:From <ipython-input-2-46ff889b56b7>:2: is_gpu_available (from tensorflow.python.framework.test_util) is deprecated and will be removed in a future version.\n",
            "Instructions for updating:\n",
            "Use `tf.config.list_physical_devices('GPU')` instead.\n",
            "True\n"
          ]
        }
      ]
    },
    {
      "cell_type": "code",
      "metadata": {
        "id": "LpJe4Mx5eayj"
      },
      "source": [
        "# 층 : 유용한 연산자 집합\n",
        "\n",
        "layer = tf.keras.layers.Dense(100)\n",
        "layer = tf.keras.layers.Dense(10, input_shape = (None, 5))"
      ],
      "execution_count": 3,
      "outputs": []
    },
    {
      "cell_type": "code",
      "metadata": {
        "colab": {
          "base_uri": "https://localhost:8080/"
        },
        "id": "MzoMpmwje1R4",
        "outputId": "bb2f6f0b-2777-4115-9dd9-071be210dbe2"
      },
      "source": [
        "layer(tf.zeros([10, 5]))"
      ],
      "execution_count": 4,
      "outputs": [
        {
          "output_type": "execute_result",
          "data": {
            "text/plain": [
              "<tf.Tensor: shape=(10, 10), dtype=float32, numpy=\n",
              "array([[0., 0., 0., 0., 0., 0., 0., 0., 0., 0.],\n",
              "       [0., 0., 0., 0., 0., 0., 0., 0., 0., 0.],\n",
              "       [0., 0., 0., 0., 0., 0., 0., 0., 0., 0.],\n",
              "       [0., 0., 0., 0., 0., 0., 0., 0., 0., 0.],\n",
              "       [0., 0., 0., 0., 0., 0., 0., 0., 0., 0.],\n",
              "       [0., 0., 0., 0., 0., 0., 0., 0., 0., 0.],\n",
              "       [0., 0., 0., 0., 0., 0., 0., 0., 0., 0.],\n",
              "       [0., 0., 0., 0., 0., 0., 0., 0., 0., 0.],\n",
              "       [0., 0., 0., 0., 0., 0., 0., 0., 0., 0.],\n",
              "       [0., 0., 0., 0., 0., 0., 0., 0., 0., 0.]], dtype=float32)>"
            ]
          },
          "metadata": {},
          "execution_count": 4
        }
      ]
    },
    {
      "cell_type": "code",
      "metadata": {
        "colab": {
          "base_uri": "https://localhost:8080/"
        },
        "id": "E6vE0YvMfFTW",
        "outputId": "f2d5367e-8c2f-4898-dd49-f2f71717ace2"
      },
      "source": [
        "layer.variables"
      ],
      "execution_count": 6,
      "outputs": [
        {
          "output_type": "execute_result",
          "data": {
            "text/plain": [
              "[<tf.Variable 'dense_1/kernel:0' shape=(5, 10) dtype=float32, numpy=\n",
              " array([[ 1.2684220e-01, -3.9093733e-02, -6.0275763e-01, -5.3911948e-01,\n",
              "          1.6613197e-01, -5.9996408e-01, -4.5684618e-01,  4.0619701e-01,\n",
              "         -2.9163799e-01,  1.8462366e-01],\n",
              "        [ 1.9773239e-01, -5.9227276e-01,  2.5135815e-02,  3.3232164e-01,\n",
              "         -5.4760027e-01,  6.0555488e-01, -3.8353673e-01,  9.9241734e-05,\n",
              "         -5.6716204e-03, -1.6920051e-01],\n",
              "        [-5.6690037e-01, -6.0184097e-01, -8.3577275e-02,  1.7103016e-01,\n",
              "         -2.0711416e-01,  4.7971231e-01,  1.9997954e-03,  2.8028882e-01,\n",
              "         -6.2376225e-01,  4.0749866e-01],\n",
              "        [ 4.6547407e-01, -4.1803578e-01, -2.7435619e-01, -4.3708828e-01,\n",
              "          5.2985126e-01, -1.2161702e-01,  2.6694822e-01, -4.2851064e-01,\n",
              "         -2.7404240e-01,  4.4889146e-01],\n",
              "        [ 6.0676634e-02,  1.9377810e-01, -4.5542982e-01,  1.1409795e-01,\n",
              "          1.9123548e-01, -4.9611092e-01,  3.6402458e-01,  7.7004671e-02,\n",
              "          5.1428825e-01,  3.5643268e-01]], dtype=float32)>,\n",
              " <tf.Variable 'dense_1/bias:0' shape=(10,) dtype=float32, numpy=array([0., 0., 0., 0., 0., 0., 0., 0., 0., 0.], dtype=float32)>]"
            ]
          },
          "metadata": {},
          "execution_count": 6
        }
      ]
    },
    {
      "cell_type": "code",
      "metadata": {
        "colab": {
          "base_uri": "https://localhost:8080/"
        },
        "id": "B_XdlsrRfQ5i",
        "outputId": "1e54b51c-6ca7-4461-ddbf-57852f6f1e2f"
      },
      "source": [
        "layer.kernel, layer.bias"
      ],
      "execution_count": 7,
      "outputs": [
        {
          "output_type": "execute_result",
          "data": {
            "text/plain": [
              "(<tf.Variable 'dense_1/kernel:0' shape=(5, 10) dtype=float32, numpy=\n",
              " array([[ 1.2684220e-01, -3.9093733e-02, -6.0275763e-01, -5.3911948e-01,\n",
              "          1.6613197e-01, -5.9996408e-01, -4.5684618e-01,  4.0619701e-01,\n",
              "         -2.9163799e-01,  1.8462366e-01],\n",
              "        [ 1.9773239e-01, -5.9227276e-01,  2.5135815e-02,  3.3232164e-01,\n",
              "         -5.4760027e-01,  6.0555488e-01, -3.8353673e-01,  9.9241734e-05,\n",
              "         -5.6716204e-03, -1.6920051e-01],\n",
              "        [-5.6690037e-01, -6.0184097e-01, -8.3577275e-02,  1.7103016e-01,\n",
              "         -2.0711416e-01,  4.7971231e-01,  1.9997954e-03,  2.8028882e-01,\n",
              "         -6.2376225e-01,  4.0749866e-01],\n",
              "        [ 4.6547407e-01, -4.1803578e-01, -2.7435619e-01, -4.3708828e-01,\n",
              "          5.2985126e-01, -1.2161702e-01,  2.6694822e-01, -4.2851064e-01,\n",
              "         -2.7404240e-01,  4.4889146e-01],\n",
              "        [ 6.0676634e-02,  1.9377810e-01, -4.5542982e-01,  1.1409795e-01,\n",
              "          1.9123548e-01, -4.9611092e-01,  3.6402458e-01,  7.7004671e-02,\n",
              "          5.1428825e-01,  3.5643268e-01]], dtype=float32)>,\n",
              " <tf.Variable 'dense_1/bias:0' shape=(10,) dtype=float32, numpy=array([0., 0., 0., 0., 0., 0., 0., 0., 0., 0.], dtype=float32)>)"
            ]
          },
          "metadata": {},
          "execution_count": 7
        }
      ]
    },
    {
      "cell_type": "markdown",
      "metadata": {
        "id": "Sr7ab-Xripmg"
      },
      "source": [
        "### 사용자 정의 층 구현\n",
        "\n",
        "1. __ init __ : 모든 입력 독립적 초기화를 수행할 수 있음 /  __ init __ 에 변수를 생성하는 경우 변수 생성에 필요한 크기가 명시적으로 지정되어야 함\n",
        "2. build : 입력 텐서의 형상을 알고 나머지 초기화 작업을 수행할 수 있음 / build에 변수를 생성하는 경우 유리한 점은 층이 작동할 입력의 크기를 기준으로 나중에 변수를 만들 수 있음\n",
        "3. call : 순방향 계산을 수행"
      ]
    },
    {
      "cell_type": "code",
      "metadata": {
        "id": "P2uUhvhuhkXx"
      },
      "source": [
        "class MyDenseLayer(tf.keras.layers.Layer):\n",
        "  def __init__(self, num_outputs):\n",
        "    super(MyDenseLayer, self).__init__()\n",
        "    self.num_outputs = num_outputs\n",
        "\n",
        "  def build(self, input_shape):\n",
        "    self.kernel = self.add_weight('kernel', shape = [int(input_shape[-1]), self.num_outputs])\n",
        "\n",
        "  def call(self, inputs):\n",
        "    return tf.matmul(inputs, self.kernel)\n",
        "\n",
        "layer = MyDenseLayer(10)"
      ],
      "execution_count": 10,
      "outputs": []
    },
    {
      "cell_type": "code",
      "metadata": {
        "id": "7lO3gvJMkTsh"
      },
      "source": [
        "_ = layer(tf.zeros([10, 5]))"
      ],
      "execution_count": 11,
      "outputs": []
    },
    {
      "cell_type": "code",
      "metadata": {
        "colab": {
          "base_uri": "https://localhost:8080/"
        },
        "id": "3xAjJt-8lbxY",
        "outputId": "d00bad13-3ccc-4b4d-ee7e-a58b72152e74"
      },
      "source": [
        "print([var.name for var in layer.trainable_variables])"
      ],
      "execution_count": 12,
      "outputs": [
        {
          "output_type": "stream",
          "name": "stdout",
          "text": [
            "['my_dense_layer_1/kernel:0']\n"
          ]
        }
      ]
    },
    {
      "cell_type": "markdown",
      "metadata": {
        "id": "sHQ6xrHmmlrg"
      },
      "source": [
        "### 모델 : 층 구성"
      ]
    },
    {
      "cell_type": "code",
      "metadata": {
        "id": "M0ed7cSHlkFN"
      },
      "source": [
        "class ResnetIdentityBlock(tf.keras.Model):\n",
        "  def __init__(self, kernel_size, filters):\n",
        "    super(ResnetIdentityBlock, self).__init__(name='')\n",
        "    filters1, filters2, filters3 = filters\n",
        "\n",
        "    self.conv2a = tf.keras.layers.Conv2D(filters1, (1, 1))\n",
        "    self.bn2a = tf.keras.layers.BatchNormalization()\n",
        "\n",
        "    self.conv2b = tf.keras.layers.Conv2D(filters2, kernel_size, padding='same')\n",
        "    self.bn2b = tf.keras.layers.BatchNormalization()\n",
        "\n",
        "    self.conv2c = tf.keras.layers.Conv2D(filters3, (1, 1))\n",
        "    self.bn2c = tf.keras.layers.BatchNormalization()\n",
        "\n",
        "  def call(self, input_tensor, training=False):\n",
        "    x = self.conv2a(input_tensor)\n",
        "    x = self.bn2a(x, training=training)\n",
        "    x = tf.nn.relu(x)\n",
        "\n",
        "    x = self.conv2b(x)\n",
        "    x = self.bn2b(x, training=training)\n",
        "    x = tf.nn.relu(x)\n",
        "\n",
        "    x = self.conv2c(x)\n",
        "    x = self.bn2c(x, training=training)\n",
        "\n",
        "    x += input_tensor\n",
        "    return tf.nn.relu(x)\n",
        "\n",
        "\n",
        "block = ResnetIdentityBlock(1, [1, 2, 3])"
      ],
      "execution_count": 17,
      "outputs": []
    },
    {
      "cell_type": "code",
      "metadata": {
        "id": "AKjuuBeHnntx"
      },
      "source": [
        "_ = block(tf.zeros([1,2,3,3]))"
      ],
      "execution_count": 19,
      "outputs": []
    },
    {
      "cell_type": "code",
      "metadata": {
        "colab": {
          "base_uri": "https://localhost:8080/"
        },
        "id": "3wNyt9FlnqVv",
        "outputId": "6ebe69de-1a1c-4318-89cf-7a9e12875402"
      },
      "source": [
        "block.layers"
      ],
      "execution_count": 20,
      "outputs": [
        {
          "output_type": "execute_result",
          "data": {
            "text/plain": [
              "[<keras.layers.convolutional.Conv2D at 0x7f5025b309d0>,\n",
              " <keras.layers.normalization.batch_normalization.BatchNormalization at 0x7f5025901cd0>,\n",
              " <keras.layers.convolutional.Conv2D at 0x7f502590c310>,\n",
              " <keras.layers.normalization.batch_normalization.BatchNormalization at 0x7f5025ada750>,\n",
              " <keras.layers.convolutional.Conv2D at 0x7f502b116650>,\n",
              " <keras.layers.normalization.batch_normalization.BatchNormalization at 0x7f50258ef410>]"
            ]
          },
          "metadata": {},
          "execution_count": 20
        }
      ]
    },
    {
      "cell_type": "code",
      "metadata": {
        "colab": {
          "base_uri": "https://localhost:8080/"
        },
        "id": "erLnYwCVn8rF",
        "outputId": "35e087a8-52a4-4e68-de19-923e01d40503"
      },
      "source": [
        "len(block.variables)"
      ],
      "execution_count": 21,
      "outputs": [
        {
          "output_type": "execute_result",
          "data": {
            "text/plain": [
              "18"
            ]
          },
          "metadata": {},
          "execution_count": 21
        }
      ]
    },
    {
      "cell_type": "code",
      "metadata": {
        "colab": {
          "base_uri": "https://localhost:8080/"
        },
        "id": "YKa9X56joXcP",
        "outputId": "e2aa2dd2-8de3-4bc3-85c1-4a04de3209d8"
      },
      "source": [
        "block.summary()"
      ],
      "execution_count": 22,
      "outputs": [
        {
          "output_type": "stream",
          "name": "stdout",
          "text": [
            "Model: \"resnet_identity_block_2\"\n",
            "_________________________________________________________________\n",
            "Layer (type)                 Output Shape              Param #   \n",
            "=================================================================\n",
            "conv2d_6 (Conv2D)            multiple                  4         \n",
            "_________________________________________________________________\n",
            "batch_normalization_6 (Batch multiple                  4         \n",
            "_________________________________________________________________\n",
            "conv2d_7 (Conv2D)            multiple                  4         \n",
            "_________________________________________________________________\n",
            "batch_normalization_7 (Batch multiple                  8         \n",
            "_________________________________________________________________\n",
            "conv2d_8 (Conv2D)            multiple                  9         \n",
            "_________________________________________________________________\n",
            "batch_normalization_8 (Batch multiple                  12        \n",
            "=================================================================\n",
            "Total params: 41\n",
            "Trainable params: 29\n",
            "Non-trainable params: 12\n",
            "_________________________________________________________________\n"
          ]
        }
      ]
    },
    {
      "cell_type": "code",
      "metadata": {
        "colab": {
          "base_uri": "https://localhost:8080/"
        },
        "id": "xf4wG0eWoZIb",
        "outputId": "3d675329-2f30-4a66-ecac-ba4cbd440165"
      },
      "source": [
        "my_seq = tf.keras.Sequential([tf.keras.layers.Conv2D(1, (1,1), input_shape = (None, None, 3)),\n",
        "                              tf.keras.layers.BatchNormalization(),\n",
        "                              tf.keras.layers.Conv2D(2, 1, padding = 'same'),\n",
        "                              tf.keras.layers.BatchNormalization(),\n",
        "                              tf.keras.layers.Conv2D(3, (1,1)),\n",
        "                              tf.keras.layers.BatchNormalization()])\n",
        "\n",
        "my_seq(tf.zeros([1,2,3,3]))"
      ],
      "execution_count": 23,
      "outputs": [
        {
          "output_type": "execute_result",
          "data": {
            "text/plain": [
              "<tf.Tensor: shape=(1, 2, 3, 3), dtype=float32, numpy=\n",
              "array([[[[0., 0., 0.],\n",
              "         [0., 0., 0.],\n",
              "         [0., 0., 0.]],\n",
              "\n",
              "        [[0., 0., 0.],\n",
              "         [0., 0., 0.],\n",
              "         [0., 0., 0.]]]], dtype=float32)>"
            ]
          },
          "metadata": {},
          "execution_count": 23
        }
      ]
    },
    {
      "cell_type": "code",
      "metadata": {
        "colab": {
          "base_uri": "https://localhost:8080/"
        },
        "id": "FNNIWWmLpmXc",
        "outputId": "4787727c-999e-4ea2-c561-d765dffbe2e3"
      },
      "source": [
        "my_seq.summary()"
      ],
      "execution_count": 24,
      "outputs": [
        {
          "output_type": "stream",
          "name": "stdout",
          "text": [
            "Model: \"sequential\"\n",
            "_________________________________________________________________\n",
            "Layer (type)                 Output Shape              Param #   \n",
            "=================================================================\n",
            "conv2d_9 (Conv2D)            (None, None, None, 1)     4         \n",
            "_________________________________________________________________\n",
            "batch_normalization_9 (Batch (None, None, None, 1)     4         \n",
            "_________________________________________________________________\n",
            "conv2d_10 (Conv2D)           (None, None, None, 2)     4         \n",
            "_________________________________________________________________\n",
            "batch_normalization_10 (Batc (None, None, None, 2)     8         \n",
            "_________________________________________________________________\n",
            "conv2d_11 (Conv2D)           (None, None, None, 3)     9         \n",
            "_________________________________________________________________\n",
            "batch_normalization_11 (Batc (None, None, None, 3)     12        \n",
            "=================================================================\n",
            "Total params: 41\n",
            "Trainable params: 29\n",
            "Non-trainable params: 12\n",
            "_________________________________________________________________\n"
          ]
        }
      ]
    },
    {
      "cell_type": "code",
      "metadata": {
        "id": "mKcGnh-HqD3t"
      },
      "source": [
        ""
      ],
      "execution_count": null,
      "outputs": []
    }
  ]
}