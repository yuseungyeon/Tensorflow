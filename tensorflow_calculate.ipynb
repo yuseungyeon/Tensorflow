{
  "nbformat": 4,
  "nbformat_minor": 0,
  "metadata": {
    "colab": {
      "name": "tensorflow_calculate.ipynb",
      "provenance": [],
      "authorship_tag": "ABX9TyNiWgCg8C1yv1xMNyCnei18"
    },
    "kernelspec": {
      "name": "python3",
      "display_name": "Python 3"
    },
    "language_info": {
      "name": "python"
    },
    "accelerator": "GPU"
  },
  "cells": [
    {
      "cell_type": "code",
      "metadata": {
        "id": "erYu8vijWjB5"
      },
      "source": [
        "import tensorflow as tf\n",
        "import numpy as np"
      ],
      "execution_count": 2,
      "outputs": []
    },
    {
      "cell_type": "code",
      "metadata": {
        "colab": {
          "base_uri": "https://localhost:8080/"
        },
        "id": "T_zd51dLWngr",
        "outputId": "91f3298f-e45d-44bc-a814-0c9169b6004e"
      },
      "source": [
        "print(tf.add(1,2))\n",
        "print(tf.add([1,2], [3,4]))\n",
        "print(tf.square(5))\n",
        "print(tf.reduce_sum([1,2,3]))\n",
        "\n",
        "print(tf.square(2) + tf.square(3))"
      ],
      "execution_count": 3,
      "outputs": [
        {
          "output_type": "stream",
          "name": "stdout",
          "text": [
            "tf.Tensor(3, shape=(), dtype=int32)\n",
            "tf.Tensor([4 6], shape=(2,), dtype=int32)\n",
            "tf.Tensor(25, shape=(), dtype=int32)\n",
            "tf.Tensor(6, shape=(), dtype=int32)\n",
            "tf.Tensor(13, shape=(), dtype=int32)\n"
          ]
        }
      ]
    },
    {
      "cell_type": "code",
      "metadata": {
        "colab": {
          "base_uri": "https://localhost:8080/"
        },
        "id": "XJAL65wlYjKe",
        "outputId": "18ac79d9-7aa0-4f5b-e2e6-6f54da9e41ef"
      },
      "source": [
        "x = tf.matmul([[1]], [[2,3]])\n",
        "print(x)\n",
        "print(x.shape)\n",
        "print(x.dtype)"
      ],
      "execution_count": 6,
      "outputs": [
        {
          "output_type": "stream",
          "name": "stdout",
          "text": [
            "tf.Tensor([[2 3]], shape=(1, 2), dtype=int32)\n",
            "(1, 2)\n",
            "<dtype: 'int32'>\n"
          ]
        }
      ]
    },
    {
      "cell_type": "code",
      "metadata": {
        "colab": {
          "base_uri": "https://localhost:8080/"
        },
        "id": "qaG1NU31Y2Hr",
        "outputId": "0d665087-8a11-4c3b-fe6e-29de26549ca8"
      },
      "source": [
        "ndarray  = np.ones([3,3])\n",
        "tensor = tf.multiply(ndarray, 42)\n",
        "print(tensor)\n",
        "\n",
        "print(np.add(tensor, 1))\n",
        "\n",
        "print(tensor.numpy())"
      ],
      "execution_count": 7,
      "outputs": [
        {
          "output_type": "stream",
          "name": "stdout",
          "text": [
            "tf.Tensor(\n",
            "[[42. 42. 42.]\n",
            " [42. 42. 42.]\n",
            " [42. 42. 42.]], shape=(3, 3), dtype=float64)\n",
            "[[43. 43. 43.]\n",
            " [43. 43. 43.]\n",
            " [43. 43. 43.]]\n",
            "[[42. 42. 42.]\n",
            " [42. 42. 42.]\n",
            " [42. 42. 42.]]\n"
          ]
        }
      ]
    },
    {
      "cell_type": "code",
      "metadata": {
        "colab": {
          "base_uri": "https://localhost:8080/"
        },
        "id": "CK4R7m0gZCiL",
        "outputId": "43c274eb-7dcd-41fa-82f9-03bdb034b252"
      },
      "source": [
        "x = tf.random.uniform([3,3])\n",
        "\n",
        "print(tf.test.is_gpu_available())\n",
        "\n",
        "print(x.device.endswith('GPU:0'))"
      ],
      "execution_count": 9,
      "outputs": [
        {
          "output_type": "stream",
          "name": "stdout",
          "text": [
            "WARNING:tensorflow:From <ipython-input-9-1e44bcb4b3fe>:3: is_gpu_available (from tensorflow.python.framework.test_util) is deprecated and will be removed in a future version.\n",
            "Instructions for updating:\n",
            "Use `tf.config.list_physical_devices('GPU')` instead.\n",
            "True\n",
            "True\n"
          ]
        }
      ]
    },
    {
      "cell_type": "code",
      "metadata": {
        "colab": {
          "base_uri": "https://localhost:8080/"
        },
        "id": "sIgyHoKwaGsX",
        "outputId": "c75d93c3-8a9c-4f10-f1a4-0772e6cdadc4"
      },
      "source": [
        "# 텐서플로 연산은 tf.device을 사용하여 특정한 장치에 명시적으로 배치가 가능함\n",
        "\n",
        "import time\n",
        "\n",
        "def time_matmul(x):\n",
        "  start = time.time()\n",
        "  for loop in range(10):\n",
        "    tf.matmul(x, x)\n",
        "\n",
        "  result = time.time() - start\n",
        "  print('10 loops: {:0.2f}ms'.format(1000 * result))\n",
        "\n",
        "print('On CPU:')\n",
        "with tf.device('CPU:0'):\n",
        "  x = tf.random.uniform([1000, 1000])\n",
        "  assert x.device.endswith('CPU:0')\n",
        "  time_matmul(x)\n",
        "\n",
        "if tf.config.list_physical_devices(\"GPU\"):\n",
        "  print(\"On GPU:\")\n",
        "  with tf.device('GPU:0'):\n",
        "    x = tf.random.uniform([1000, 1000])\n",
        "    assert x.device.endswith('GPU:0')\n",
        "    time_matmul(x)"
      ],
      "execution_count": 13,
      "outputs": [
        {
          "output_type": "stream",
          "name": "stdout",
          "text": [
            "On CPU:\n",
            "10 loops: 339.12ms\n",
            "On GPU:\n",
            "10 loops: 2.05ms\n"
          ]
        }
      ]
    },
    {
      "cell_type": "code",
      "metadata": {
        "id": "93u43mFxbT7w"
      },
      "source": [
        "# 소스 데이터셋 생성\n",
        "\n",
        "ds_tensors = tf.data.Dataset.from_tensor_slices([1,2,3,4,5,6])\n",
        "\n",
        "import tempfile\n",
        "_, filename = tempfile.mkstemp()\n",
        "\n",
        "with open(filename, 'w') as f:\n",
        "  f.write(\"\"\"Line 1\n",
        "  Line 2\n",
        "  Line 3\n",
        "  \"\"\")\n",
        "\n",
        "  ds_file = tf.data.TextLineDataset(filename)"
      ],
      "execution_count": 14,
      "outputs": []
    },
    {
      "cell_type": "code",
      "metadata": {
        "id": "vZNN7DVAcXK0"
      },
      "source": [
        "# 변환 적용\n",
        "\n",
        "ds_tensors = ds_tensors.map(tf.square).shuffle(2).batch(2)\n",
        "ds_file = ds_file.batch(2)"
      ],
      "execution_count": 15,
      "outputs": []
    },
    {
      "cell_type": "code",
      "metadata": {
        "colab": {
          "base_uri": "https://localhost:8080/"
        },
        "id": "VnTLvUGscxY1",
        "outputId": "a55e38b6-0dfe-421b-e6f9-a2fca2ad90cf"
      },
      "source": [
        "# 반복\n",
        "\n",
        "print('ds_tensors 요소')\n",
        "for x in ds_tensors:\n",
        "  print(x)\n",
        "\n",
        "print('\\nds_file 요소')\n",
        "for x in ds_file:\n",
        "  print(x)"
      ],
      "execution_count": 17,
      "outputs": [
        {
          "output_type": "stream",
          "name": "stdout",
          "text": [
            "ds_tensors 요소\n",
            "tf.Tensor([4 1], shape=(2,), dtype=int32)\n",
            "tf.Tensor([16  9], shape=(2,), dtype=int32)\n",
            "tf.Tensor([36 25], shape=(2,), dtype=int32)\n",
            "\n",
            "ds_file 요소\n",
            "tf.Tensor([b'Line 1' b'  Line 2'], shape=(2,), dtype=string)\n",
            "tf.Tensor([b'  Line 3' b'  '], shape=(2,), dtype=string)\n"
          ]
        }
      ]
    },
    {
      "cell_type": "code",
      "metadata": {
        "id": "0stMu4MAc53O"
      },
      "source": [
        ""
      ],
      "execution_count": null,
      "outputs": []
    }
  ]
}