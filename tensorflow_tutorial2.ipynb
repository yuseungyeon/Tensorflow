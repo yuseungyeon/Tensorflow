{
  "nbformat": 4,
  "nbformat_minor": 0,
  "metadata": {
    "colab": {
      "name": "tensorflow_tutorial2.ipynb",
      "provenance": [],
      "authorship_tag": "ABX9TyPvnEMj3Gtlx9CssSLrYU9V"
    },
    "kernelspec": {
      "name": "python3",
      "display_name": "Python 3"
    },
    "language_info": {
      "name": "python"
    },
    "accelerator": "GPU"
  },
  "cells": [
    {
      "cell_type": "code",
      "metadata": {
        "colab": {
          "base_uri": "https://localhost:8080/"
        },
        "id": "9PtXRxSwRzUL",
        "outputId": "4f39b0c4-6db2-45bf-e267-c14f156b3e10"
      },
      "source": [
        "import tensorflow as tf\n",
        "from tensorflow import keras\n",
        "\n",
        "import numpy as np\n",
        "\n",
        "print(tf.__version__)"
      ],
      "execution_count": 1,
      "outputs": [
        {
          "output_type": "stream",
          "name": "stdout",
          "text": [
            "2.6.0\n"
          ]
        }
      ]
    },
    {
      "cell_type": "markdown",
      "metadata": {
        "id": "e-wzdFwOSM7-"
      },
      "source": [
        "## IMDB 데이터셋 다운로드"
      ]
    },
    {
      "cell_type": "code",
      "metadata": {
        "colab": {
          "base_uri": "https://localhost:8080/"
        },
        "id": "CJxLFpv-SLU6",
        "outputId": "0cfb8e98-ac0a-403f-fd3c-b4b699d30259"
      },
      "source": [
        "imdb = keras.datasets.imdb\n",
        "(train_data, train_labels), (test_data, test_labels) = imdb.load_data(num_words = 10000)\n",
        "# num_words = 10000 : 훈련데이터에서 가장 많이 등장하는 상위 10000개의 단어 선택"
      ],
      "execution_count": 2,
      "outputs": [
        {
          "output_type": "stream",
          "name": "stdout",
          "text": [
            "Downloading data from https://storage.googleapis.com/tensorflow/tf-keras-datasets/imdb.npz\n",
            "17465344/17464789 [==============================] - 0s 0us/step\n",
            "17473536/17464789 [==============================] - 0s 0us/step\n"
          ]
        }
      ]
    },
    {
      "cell_type": "code",
      "metadata": {
        "colab": {
          "base_uri": "https://localhost:8080/"
        },
        "id": "yNCl7HJcWEsC",
        "outputId": "345e0011-5a4d-4d4a-bf5a-89a62ab85c27"
      },
      "source": [
        "print(\"훈련 샘플 : {}, 레이블 : {}\".format(len(train_data), len(test_labels)))"
      ],
      "execution_count": 3,
      "outputs": [
        {
          "output_type": "stream",
          "name": "stdout",
          "text": [
            "훈련 샘플 : 25000, 레이블 : 25000\n"
          ]
        }
      ]
    },
    {
      "cell_type": "code",
      "metadata": {
        "colab": {
          "base_uri": "https://localhost:8080/"
        },
        "id": "x37aYpdCWUAU",
        "outputId": "ff3e0ad1-c283-444e-d5c3-9800c7512ace"
      },
      "source": [
        "print(train_data[0])"
      ],
      "execution_count": 4,
      "outputs": [
        {
          "output_type": "stream",
          "name": "stdout",
          "text": [
            "[1, 14, 22, 16, 43, 530, 973, 1622, 1385, 65, 458, 4468, 66, 3941, 4, 173, 36, 256, 5, 25, 100, 43, 838, 112, 50, 670, 2, 9, 35, 480, 284, 5, 150, 4, 172, 112, 167, 2, 336, 385, 39, 4, 172, 4536, 1111, 17, 546, 38, 13, 447, 4, 192, 50, 16, 6, 147, 2025, 19, 14, 22, 4, 1920, 4613, 469, 4, 22, 71, 87, 12, 16, 43, 530, 38, 76, 15, 13, 1247, 4, 22, 17, 515, 17, 12, 16, 626, 18, 2, 5, 62, 386, 12, 8, 316, 8, 106, 5, 4, 2223, 5244, 16, 480, 66, 3785, 33, 4, 130, 12, 16, 38, 619, 5, 25, 124, 51, 36, 135, 48, 25, 1415, 33, 6, 22, 12, 215, 28, 77, 52, 5, 14, 407, 16, 82, 2, 8, 4, 107, 117, 5952, 15, 256, 4, 2, 7, 3766, 5, 723, 36, 71, 43, 530, 476, 26, 400, 317, 46, 7, 4, 2, 1029, 13, 104, 88, 4, 381, 15, 297, 98, 32, 2071, 56, 26, 141, 6, 194, 7486, 18, 4, 226, 22, 21, 134, 476, 26, 480, 5, 144, 30, 5535, 18, 51, 36, 28, 224, 92, 25, 104, 4, 226, 65, 16, 38, 1334, 88, 12, 16, 283, 5, 16, 4472, 113, 103, 32, 15, 16, 5345, 19, 178, 32]\n"
          ]
        }
      ]
    },
    {
      "cell_type": "code",
      "metadata": {
        "colab": {
          "base_uri": "https://localhost:8080/"
        },
        "id": "yAdw19YzWV8m",
        "outputId": "07091cdd-f2ff-466e-d63e-bccfec8ad76a"
      },
      "source": [
        "len(train_data[0]), len(train_data[1]) #영화 리뷰들은 길이가 다름"
      ],
      "execution_count": 5,
      "outputs": [
        {
          "output_type": "execute_result",
          "data": {
            "text/plain": [
              "(218, 189)"
            ]
          },
          "metadata": {},
          "execution_count": 5
        }
      ]
    },
    {
      "cell_type": "code",
      "metadata": {
        "id": "EfmUSeuXWZ75"
      },
      "source": [
        "word_index = imdb.get_word_index()\n",
        "\n",
        "word_index = {k:(v+3) for k,v in word_index.items()}\n",
        "word_index['<PAD>'] = 0\n",
        "word_index['<START>'] = 1\n",
        "word_index['<UNK>'] = 2\n",
        "word_index['<UNUSED>'] = 3\n",
        "\n",
        "reversed_word_index = dict([(value, key) for (key, value) in word_index.items()])\n",
        "\n",
        "def decode_review(text):\n",
        "  return ' '.join([reversed_word_index.get(i, '?') for i in text])"
      ],
      "execution_count": 9,
      "outputs": []
    },
    {
      "cell_type": "code",
      "metadata": {
        "colab": {
          "base_uri": "https://localhost:8080/",
          "height": 230
        },
        "id": "j9P-w4dLoMB_",
        "outputId": "618164f0-3797-40b2-e53f-2b5cea0df3c1"
      },
      "source": [
        "decode_review(train_data[0])"
      ],
      "execution_count": 10,
      "outputs": [
        {
          "output_type": "execute_result",
          "data": {
            "application/vnd.google.colaboratory.intrinsic+json": {
              "type": "string"
            },
            "text/plain": [
              "\"<START> this film was just brilliant casting location scenery story direction everyone's really suited the part they played and you could just imagine being there robert <UNK> is an amazing actor and now the same being director <UNK> father came from the same scottish island as myself so i loved the fact there was a real connection with this film the witty remarks throughout the film were great it was just brilliant so much that i bought the film as soon as it was released for <UNK> and would recommend it to everyone to watch and the fly fishing was amazing really cried at the end it was so sad and you know what they say if you cry at a film it must have been good and this definitely was also <UNK> to the two little boy's that played the <UNK> of norman and paul they were just brilliant children are often left out of the <UNK> list i think because the stars that play them all grown up are such a big profile for the whole film but these children are amazing and should be praised for what they have done don't you think the whole story was so lovely because it was true and was someone's life after all that was shared with us all\""
            ]
          },
          "metadata": {},
          "execution_count": 10
        }
      ]
    },
    {
      "cell_type": "code",
      "metadata": {
        "id": "YfAkoquvowyM"
      },
      "source": [
        "train_data = keras.preprocessing.sequence.pad_sequences(train_data,\n",
        "                                                        value=word_index[\"<PAD>\"],\n",
        "                                                        padding='post',\n",
        "                                                        maxlen=256)\n",
        "\n",
        "test_data = keras.preprocessing.sequence.pad_sequences(test_data,\n",
        "                                                       value=word_index[\"<PAD>\"],\n",
        "                                                       padding='post',\n",
        "                                                       maxlen=256)"
      ],
      "execution_count": 13,
      "outputs": []
    },
    {
      "cell_type": "code",
      "metadata": {
        "colab": {
          "base_uri": "https://localhost:8080/"
        },
        "id": "-r7n9A4ZpsPm",
        "outputId": "1d43db60-803e-42ea-b885-57da6d1c83cb"
      },
      "source": [
        "len(train_data[0]), len(train_data[1])"
      ],
      "execution_count": 14,
      "outputs": [
        {
          "output_type": "execute_result",
          "data": {
            "text/plain": [
              "(256, 256)"
            ]
          },
          "metadata": {},
          "execution_count": 14
        }
      ]
    },
    {
      "cell_type": "code",
      "metadata": {
        "colab": {
          "base_uri": "https://localhost:8080/"
        },
        "id": "G12J-Bf1p3Sh",
        "outputId": "0ef935ad-137e-4c21-beb6-df23a2415faf"
      },
      "source": [
        "print(train_data[0])"
      ],
      "execution_count": 15,
      "outputs": [
        {
          "output_type": "stream",
          "name": "stdout",
          "text": [
            "[   1   14   22   16   43  530  973 1622 1385   65  458 4468   66 3941\n",
            "    4  173   36  256    5   25  100   43  838  112   50  670    2    9\n",
            "   35  480  284    5  150    4  172  112  167    2  336  385   39    4\n",
            "  172 4536 1111   17  546   38   13  447    4  192   50   16    6  147\n",
            " 2025   19   14   22    4 1920 4613  469    4   22   71   87   12   16\n",
            "   43  530   38   76   15   13 1247    4   22   17  515   17   12   16\n",
            "  626   18    2    5   62  386   12    8  316    8  106    5    4 2223\n",
            " 5244   16  480   66 3785   33    4  130   12   16   38  619    5   25\n",
            "  124   51   36  135   48   25 1415   33    6   22   12  215   28   77\n",
            "   52    5   14  407   16   82    2    8    4  107  117 5952   15  256\n",
            "    4    2    7 3766    5  723   36   71   43  530  476   26  400  317\n",
            "   46    7    4    2 1029   13  104   88    4  381   15  297   98   32\n",
            " 2071   56   26  141    6  194 7486   18    4  226   22   21  134  476\n",
            "   26  480    5  144   30 5535   18   51   36   28  224   92   25  104\n",
            "    4  226   65   16   38 1334   88   12   16  283    5   16 4472  113\n",
            "  103   32   15   16 5345   19  178   32    0    0    0    0    0    0\n",
            "    0    0    0    0    0    0    0    0    0    0    0    0    0    0\n",
            "    0    0    0    0    0    0    0    0    0    0    0    0    0    0\n",
            "    0    0    0    0]\n"
          ]
        }
      ]
    },
    {
      "cell_type": "code",
      "metadata": {
        "id": "LlX5ZDsgp5Oo"
      },
      "source": [
        "vocab_size = 10000"
      ],
      "execution_count": 16,
      "outputs": []
    },
    {
      "cell_type": "code",
      "metadata": {
        "colab": {
          "base_uri": "https://localhost:8080/"
        },
        "id": "i5_TlZ2gqn4S",
        "outputId": "b1ad03d2-54f5-4194-c5f2-b3800b00d6ef"
      },
      "source": [
        "model = keras.Sequential()\n",
        "model.add(keras.layers.Embedding(vocab_size, 16, input_shape = (None,)))\n",
        "# 정수로 인코딩된 단어를 입력 받아 각 단어 인덱스에 해당하는 임베팅 벡터를 찾음\n",
        "# 최종 차원 : (batch, sequence, embedding)\n",
        "model.add(keras.layers.GlobalAveragePooling1D())\n",
        "# sequence 차원에 대해 평균을 계산하여 각 샘플에 대해 고정된 길이의 출력 벡터를 반환\n",
        "model.add(keras.layers.Dense(16, activation='relu'))\n",
        "model.add(keras.layers.Dense(1, activation = 'sigmoid'))\n",
        "#출력 노드를 가진 완전 연결 층\n",
        "\n",
        "model.summary()"
      ],
      "execution_count": 18,
      "outputs": [
        {
          "output_type": "stream",
          "name": "stdout",
          "text": [
            "Model: \"sequential_1\"\n",
            "_________________________________________________________________\n",
            "Layer (type)                 Output Shape              Param #   \n",
            "=================================================================\n",
            "embedding_1 (Embedding)      (None, None, 16)          160000    \n",
            "_________________________________________________________________\n",
            "global_average_pooling1d_1 ( (None, 16)                0         \n",
            "_________________________________________________________________\n",
            "dense_2 (Dense)              (None, 16)                272       \n",
            "_________________________________________________________________\n",
            "dense_3 (Dense)              (None, 1)                 17        \n",
            "=================================================================\n",
            "Total params: 160,289\n",
            "Trainable params: 160,289\n",
            "Non-trainable params: 0\n",
            "_________________________________________________________________\n"
          ]
        }
      ]
    },
    {
      "cell_type": "code",
      "metadata": {
        "id": "A6LchYNNq2SE"
      },
      "source": [
        "model.compile(optimizer = 'adam', loss = 'binary_crossentropy', metrics = ['accuracy'])"
      ],
      "execution_count": 19,
      "outputs": []
    },
    {
      "cell_type": "code",
      "metadata": {
        "id": "x2MEmjnSvFBU"
      },
      "source": [
        "x_val = train_data[:10000]\n",
        "partial_x_train = train_data[10000:]\n",
        "\n",
        "y_val = train_labels[:10000]\n",
        "partial_y_train = train_labels[10000:]"
      ],
      "execution_count": 20,
      "outputs": []
    },
    {
      "cell_type": "code",
      "metadata": {
        "colab": {
          "base_uri": "https://localhost:8080/"
        },
        "id": "gUOC3qiYvR-j",
        "outputId": "d22b3327-e0ba-47ac-b93a-600cb627aac6"
      },
      "source": [
        "history = model.fit(partial_x_train, partial_y_train, epochs = 40,\n",
        "                    batch_size = 512, validation_data = (x_val, y_val), verbose = 1)"
      ],
      "execution_count": 21,
      "outputs": [
        {
          "output_type": "stream",
          "name": "stdout",
          "text": [
            "Epoch 1/40\n",
            "30/30 [==============================] - 3s 16ms/step - loss: 0.6923 - accuracy: 0.5495 - val_loss: 0.6912 - val_accuracy: 0.5133\n",
            "Epoch 2/40\n",
            "30/30 [==============================] - 0s 10ms/step - loss: 0.6882 - accuracy: 0.6351 - val_loss: 0.6850 - val_accuracy: 0.6639\n",
            "Epoch 3/40\n",
            "30/30 [==============================] - 0s 9ms/step - loss: 0.6780 - accuracy: 0.7280 - val_loss: 0.6714 - val_accuracy: 0.7322\n",
            "Epoch 4/40\n",
            "30/30 [==============================] - 0s 10ms/step - loss: 0.6580 - accuracy: 0.7553 - val_loss: 0.6480 - val_accuracy: 0.7578\n",
            "Epoch 5/40\n",
            "30/30 [==============================] - 0s 10ms/step - loss: 0.6269 - accuracy: 0.7828 - val_loss: 0.6153 - val_accuracy: 0.7719\n",
            "Epoch 6/40\n",
            "30/30 [==============================] - 0s 10ms/step - loss: 0.5864 - accuracy: 0.8019 - val_loss: 0.5739 - val_accuracy: 0.7988\n",
            "Epoch 7/40\n",
            "30/30 [==============================] - 0s 10ms/step - loss: 0.5383 - accuracy: 0.8252 - val_loss: 0.5289 - val_accuracy: 0.8153\n",
            "Epoch 8/40\n",
            "30/30 [==============================] - 0s 9ms/step - loss: 0.4891 - accuracy: 0.8421 - val_loss: 0.4857 - val_accuracy: 0.8314\n",
            "Epoch 9/40\n",
            "30/30 [==============================] - 0s 10ms/step - loss: 0.4436 - accuracy: 0.8577 - val_loss: 0.4480 - val_accuracy: 0.8410\n",
            "Epoch 10/40\n",
            "30/30 [==============================] - 0s 11ms/step - loss: 0.4035 - accuracy: 0.8697 - val_loss: 0.4155 - val_accuracy: 0.8509\n",
            "Epoch 11/40\n",
            "30/30 [==============================] - 0s 10ms/step - loss: 0.3696 - accuracy: 0.8811 - val_loss: 0.3901 - val_accuracy: 0.8565\n",
            "Epoch 12/40\n",
            "30/30 [==============================] - 0s 10ms/step - loss: 0.3410 - accuracy: 0.8871 - val_loss: 0.3692 - val_accuracy: 0.8624\n",
            "Epoch 13/40\n",
            "30/30 [==============================] - 0s 9ms/step - loss: 0.3169 - accuracy: 0.8945 - val_loss: 0.3527 - val_accuracy: 0.8654\n",
            "Epoch 14/40\n",
            "30/30 [==============================] - 0s 10ms/step - loss: 0.2970 - accuracy: 0.8997 - val_loss: 0.3391 - val_accuracy: 0.8699\n",
            "Epoch 15/40\n",
            "30/30 [==============================] - 0s 10ms/step - loss: 0.2789 - accuracy: 0.9048 - val_loss: 0.3282 - val_accuracy: 0.8739\n",
            "Epoch 16/40\n",
            "30/30 [==============================] - 0s 10ms/step - loss: 0.2632 - accuracy: 0.9101 - val_loss: 0.3192 - val_accuracy: 0.8751\n",
            "Epoch 17/40\n",
            "30/30 [==============================] - 0s 9ms/step - loss: 0.2496 - accuracy: 0.9143 - val_loss: 0.3118 - val_accuracy: 0.8784\n",
            "Epoch 18/40\n",
            "30/30 [==============================] - 0s 11ms/step - loss: 0.2367 - accuracy: 0.9197 - val_loss: 0.3064 - val_accuracy: 0.8796\n",
            "Epoch 19/40\n",
            "30/30 [==============================] - 0s 9ms/step - loss: 0.2254 - accuracy: 0.9232 - val_loss: 0.3008 - val_accuracy: 0.8805\n",
            "Epoch 20/40\n",
            "30/30 [==============================] - 0s 10ms/step - loss: 0.2149 - accuracy: 0.9265 - val_loss: 0.2975 - val_accuracy: 0.8811\n",
            "Epoch 21/40\n",
            "30/30 [==============================] - 0s 10ms/step - loss: 0.2053 - accuracy: 0.9294 - val_loss: 0.2942 - val_accuracy: 0.8821\n",
            "Epoch 22/40\n",
            "30/30 [==============================] - 0s 10ms/step - loss: 0.1961 - accuracy: 0.9333 - val_loss: 0.2917 - val_accuracy: 0.8831\n",
            "Epoch 23/40\n",
            "30/30 [==============================] - 0s 10ms/step - loss: 0.1876 - accuracy: 0.9375 - val_loss: 0.2895 - val_accuracy: 0.8837\n",
            "Epoch 24/40\n",
            "30/30 [==============================] - 0s 10ms/step - loss: 0.1796 - accuracy: 0.9419 - val_loss: 0.2878 - val_accuracy: 0.8832\n",
            "Epoch 25/40\n",
            "30/30 [==============================] - 0s 10ms/step - loss: 0.1726 - accuracy: 0.9444 - val_loss: 0.2867 - val_accuracy: 0.8834\n",
            "Epoch 26/40\n",
            "30/30 [==============================] - 0s 10ms/step - loss: 0.1653 - accuracy: 0.9477 - val_loss: 0.2871 - val_accuracy: 0.8853\n",
            "Epoch 27/40\n",
            "30/30 [==============================] - 0s 10ms/step - loss: 0.1588 - accuracy: 0.9490 - val_loss: 0.2858 - val_accuracy: 0.8860\n",
            "Epoch 28/40\n",
            "30/30 [==============================] - 0s 10ms/step - loss: 0.1521 - accuracy: 0.9526 - val_loss: 0.2864 - val_accuracy: 0.8860\n",
            "Epoch 29/40\n",
            "30/30 [==============================] - 0s 10ms/step - loss: 0.1463 - accuracy: 0.9538 - val_loss: 0.2866 - val_accuracy: 0.8855\n",
            "Epoch 30/40\n",
            "30/30 [==============================] - 0s 9ms/step - loss: 0.1407 - accuracy: 0.9575 - val_loss: 0.2873 - val_accuracy: 0.8863\n",
            "Epoch 31/40\n",
            "30/30 [==============================] - 0s 10ms/step - loss: 0.1351 - accuracy: 0.9598 - val_loss: 0.2890 - val_accuracy: 0.8853\n",
            "Epoch 32/40\n",
            "30/30 [==============================] - 0s 9ms/step - loss: 0.1300 - accuracy: 0.9617 - val_loss: 0.2908 - val_accuracy: 0.8857\n",
            "Epoch 33/40\n",
            "30/30 [==============================] - 0s 10ms/step - loss: 0.1252 - accuracy: 0.9643 - val_loss: 0.2918 - val_accuracy: 0.8853\n",
            "Epoch 34/40\n",
            "30/30 [==============================] - 0s 10ms/step - loss: 0.1204 - accuracy: 0.9662 - val_loss: 0.2942 - val_accuracy: 0.8846\n",
            "Epoch 35/40\n",
            "30/30 [==============================] - 0s 9ms/step - loss: 0.1169 - accuracy: 0.9663 - val_loss: 0.2952 - val_accuracy: 0.8859\n",
            "Epoch 36/40\n",
            "30/30 [==============================] - 0s 10ms/step - loss: 0.1114 - accuracy: 0.9692 - val_loss: 0.2974 - val_accuracy: 0.8859\n",
            "Epoch 37/40\n",
            "30/30 [==============================] - 0s 10ms/step - loss: 0.1073 - accuracy: 0.9705 - val_loss: 0.3004 - val_accuracy: 0.8839\n",
            "Epoch 38/40\n",
            "30/30 [==============================] - 0s 10ms/step - loss: 0.1033 - accuracy: 0.9716 - val_loss: 0.3029 - val_accuracy: 0.8835\n",
            "Epoch 39/40\n",
            "30/30 [==============================] - 0s 10ms/step - loss: 0.0992 - accuracy: 0.9735 - val_loss: 0.3054 - val_accuracy: 0.8838\n",
            "Epoch 40/40\n",
            "30/30 [==============================] - 0s 10ms/step - loss: 0.0956 - accuracy: 0.9749 - val_loss: 0.3089 - val_accuracy: 0.8832\n"
          ]
        }
      ]
    },
    {
      "cell_type": "code",
      "metadata": {
        "colab": {
          "base_uri": "https://localhost:8080/"
        },
        "id": "W8urhgFrvfGu",
        "outputId": "3929753b-a7f6-4b74-cef8-4ca659b82991"
      },
      "source": [
        "results = model.evaluate(test_data, test_labels, verbose=2)\n",
        "print(results)\n",
        "# loss, accuracy"
      ],
      "execution_count": 23,
      "outputs": [
        {
          "output_type": "stream",
          "name": "stdout",
          "text": [
            "782/782 - 1s - loss: 0.3289 - accuracy: 0.8721\n",
            "[0.32889044284820557, 0.8721200227737427]\n"
          ]
        }
      ]
    },
    {
      "cell_type": "code",
      "metadata": {
        "colab": {
          "base_uri": "https://localhost:8080/"
        },
        "id": "Ot1cBdezvpqb",
        "outputId": "0651dbfc-c5f6-4f67-92b6-3aed1dfee83a"
      },
      "source": [
        "history_dict = history.history\n",
        "history_dict.keys()"
      ],
      "execution_count": 24,
      "outputs": [
        {
          "output_type": "execute_result",
          "data": {
            "text/plain": [
              "dict_keys(['loss', 'accuracy', 'val_loss', 'val_accuracy'])"
            ]
          },
          "metadata": {},
          "execution_count": 24
        }
      ]
    },
    {
      "cell_type": "code",
      "metadata": {
        "colab": {
          "base_uri": "https://localhost:8080/",
          "height": 295
        },
        "id": "u-CnYxb-v17u",
        "outputId": "d634dc5c-7f62-40cc-a3cf-016fcfeeb820"
      },
      "source": [
        "import matplotlib.pyplot as plt\n",
        "\n",
        "acc = history_dict['accuracy']\n",
        "val_acc = history_dict['val_accuracy']\n",
        "loss = history_dict['loss']\n",
        "val_loss = history_dict['val_loss']\n",
        "\n",
        "epochs = range(1, len(acc) + 1)\n",
        "\n",
        "plt.plot(epochs, loss, 'bo', label = 'Training loss') # 'bo' : 파란색 점\n",
        "plt.plot(epochs, val_loss, 'b', label = 'Validation loss') # 'b' : 파란색 선\n",
        "plt.title('Training and validation loss')\n",
        "plt.xlabel(\"Epochs\")\n",
        "plt.ylabel('Loss')\n",
        "plt.legend()\n",
        "\n",
        "plt.show()"
      ],
      "execution_count": 25,
      "outputs": [
        {
          "output_type": "display_data",
          "data": {
            "image/png": "[encoded data removed]",
            "text/plain": [
              "<Figure size 432x288 with 1 Axes>"
            ]
          },
          "metadata": {
            "needs_background": "light"
          }
        }
      ]
    },
    {
      "cell_type": "code",
      "metadata": {
        "colab": {
          "base_uri": "https://localhost:8080/",
          "height": 295
        },
        "id": "5QMYwtBrwRGD",
        "outputId": "fbb874df-d86d-4150-c206-9be2baeeaa28"
      },
      "source": [
        "plt.clf()\n",
        "\n",
        "plt.plot(epochs, acc ,'bo', label = 'Training acc')\n",
        "plt.plot(epochs, val_acc, 'b', label = 'Validation acc')\n",
        "plt.title('Training and validation accuracy')\n",
        "plt.xlabel('Epochs')\n",
        "plt.ylabel('Accuracy')\n",
        "plt.legend()\n",
        "\n",
        "plt.show()"
      ],
      "execution_count": 26,
      "outputs": [
        {
          "output_type": "display_data",
          "data": {
            "image/png": "[encoded data removed]",
            "text/plain": [
              "<Figure size 432x288 with 1 Axes>"
            ]
          },
          "metadata": {
            "needs_background": "light"
          }
        }
      ]
    }
  ]
}