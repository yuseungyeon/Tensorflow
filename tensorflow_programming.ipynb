{
  "nbformat": 4,
  "nbformat_minor": 0,
  "metadata": {
    "colab": {
      "name": "tensorflow_programming.ipynb",
      "provenance": [],
      "authorship_tag": "ABX9TyOkDmYcb8LKqyvBHecQL3yE"
    },
    "kernelspec": {
      "name": "python3",
      "display_name": "Python 3"
    },
    "language_info": {
      "name": "python"
    },
    "accelerator": "GPU"
  },
  "cells": [
    {
      "cell_type": "code",
      "metadata": {
        "id": "ZGol7dixqQOs"
      },
      "source": [
        "import os\n",
        "import matplotlib.pyplot as plt"
      ],
      "execution_count": 1,
      "outputs": []
    },
    {
      "cell_type": "code",
      "metadata": {
        "id": "A21B-OKerrZI"
      },
      "source": [
        "import tensorflow as tf"
      ],
      "execution_count": 2,
      "outputs": []
    },
    {
      "cell_type": "code",
      "metadata": {
        "colab": {
          "base_uri": "https://localhost:8080/"
        },
        "id": "IHkZgLgCruzU",
        "outputId": "381b1792-eb92-42f0-b249-fc78dae695ef"
      },
      "source": [
        "print(\"텐서플로 버전: {}\".format(tf.__version__))\n",
        "print(\"즉시 실행: {}\".format(tf.executing_eagerly()))"
      ],
      "execution_count": 3,
      "outputs": [
        {
          "output_type": "stream",
          "name": "stdout",
          "text": [
            "텐서플로 버전: 2.6.0\n",
            "즉시 실행: True\n"
          ]
        }
      ]
    },
    {
      "cell_type": "code",
      "metadata": {
        "colab": {
          "base_uri": "https://localhost:8080/"
        },
        "id": "3ikBhsMPr0s_",
        "outputId": "f9128a0f-fef0-453a-b5bb-ec6c514396c1"
      },
      "source": [
        "train_dataset_url = \"https://storage.googleapis.com/download.tensorflow.org/data/iris_training.csv\"\n",
        "\n",
        "train_dataset_fp = tf.keras.utils.get_file(fname=os.path.basename(train_dataset_url),\n",
        "                                           origin=train_dataset_url)\n",
        "\n",
        "print(\"Local copy of the dataset file: {}\".format(train_dataset_fp))"
      ],
      "execution_count": 4,
      "outputs": [
        {
          "output_type": "stream",
          "name": "stdout",
          "text": [
            "Downloading data from https://storage.googleapis.com/download.tensorflow.org/data/iris_training.csv\n",
            "\r16384/2194 [================================================================================================================================================================================================================================] - 0s 0us/step\n",
            "Local copy of the dataset file: /root/.keras/datasets/iris_training.csv\n"
          ]
        }
      ]
    },
    {
      "cell_type": "code",
      "metadata": {
        "colab": {
          "base_uri": "https://localhost:8080/"
        },
        "id": "MZGbizdfsCmm",
        "outputId": "1bfaa90f-89cd-40f9-f7ab-8c4982ad0328"
      },
      "source": [
        "column_names = ['sepal_length', 'sepal_width', 'petal_length', 'petal_width', 'species']\n",
        "\n",
        "feature_names = column_names[:-1]\n",
        "label_name = column_names[-1]\n",
        "\n",
        "print(\"특성: {}\".format(feature_names))\n",
        "print(\"레이블: {}\".format(label_name))"
      ],
      "execution_count": 5,
      "outputs": [
        {
          "output_type": "stream",
          "name": "stdout",
          "text": [
            "특성: ['sepal_length', 'sepal_width', 'petal_length', 'petal_width']\n",
            "레이블: species\n"
          ]
        }
      ]
    },
    {
      "cell_type": "code",
      "metadata": {
        "id": "Rm-TpYNZsF2A"
      },
      "source": [
        "class_names = ['Iris setosa', 'Iris versicolor', 'Iris virginica']"
      ],
      "execution_count": 6,
      "outputs": []
    },
    {
      "cell_type": "code",
      "metadata": {
        "id": "xT_R2rQasH2s"
      },
      "source": [
        "batch_size = 32\n",
        "\n",
        "train_dataset = tf.data.experimental.make_csv_dataset(train_dataset_fp, batch_size, column_names = column_names, label_name = label_name, num_epochs = 1)"
      ],
      "execution_count": 7,
      "outputs": []
    },
    {
      "cell_type": "code",
      "metadata": {
        "colab": {
          "base_uri": "https://localhost:8080/"
        },
        "id": "r9EricRJshcQ",
        "outputId": "a09c8a6b-53ce-46cc-a761-8643207bd5f3"
      },
      "source": [
        "features, labels = next(iter(train_dataset))\n",
        "print(features)"
      ],
      "execution_count": 8,
      "outputs": [
        {
          "output_type": "stream",
          "name": "stdout",
          "text": [
            "OrderedDict([('sepal_length', <tf.Tensor: shape=(32,), dtype=float32, numpy=\n",
            "array([5.1, 6.8, 5.7, 6.8, 4.6, 5. , 4.8, 4.6, 7.7, 6.2, 5.7, 5.5, 4.9,\n",
            "       5.7, 5. , 4.9, 5. , 7.7, 6.1, 6.7, 4.8, 6.7, 6.4, 6. , 5. , 6.2,\n",
            "       4.8, 5.6, 6.5, 6.5, 5.4, 4.9], dtype=float32)>), ('sepal_width', <tf.Tensor: shape=(32,), dtype=float32, numpy=\n",
            "array([2.5, 3.2, 2.8, 2.8, 3.6, 3.5, 3. , 3.1, 2.6, 3.4, 3. , 3.5, 3.1,\n",
            "       2.8, 3.6, 3. , 2. , 3.8, 2.8, 3. , 3. , 3. , 3.1, 2.2, 3.4, 2.8,\n",
            "       3.1, 2.7, 2.8, 3. , 3. , 2.5], dtype=float32)>), ('petal_length', <tf.Tensor: shape=(32,), dtype=float32, numpy=\n",
            "array([3. , 5.9, 4.5, 4.8, 1. , 1.3, 1.4, 1.5, 6.9, 5.4, 4.2, 1.3, 1.5,\n",
            "       4.1, 1.4, 1.4, 3.5, 6.7, 4. , 5. , 1.4, 5.2, 5.5, 5. , 1.5, 4.8,\n",
            "       1.6, 4.2, 4.6, 5.2, 4.5, 4.5], dtype=float32)>), ('petal_width', <tf.Tensor: shape=(32,), dtype=float32, numpy=\n",
            "array([1.1, 2.3, 1.3, 1.4, 0.2, 0.3, 0.1, 0.2, 2.3, 2.3, 1.2, 0.2, 0.1,\n",
            "       1.3, 0.2, 0.2, 1. , 2.2, 1.3, 1.7, 0.3, 2.3, 1.8, 1.5, 0.2, 1.8,\n",
            "       0.2, 1.3, 1.5, 2. , 1.5, 1.7], dtype=float32)>)])\n"
          ]
        }
      ]
    },
    {
      "cell_type": "code",
      "metadata": {
        "colab": {
          "base_uri": "https://localhost:8080/",
          "height": 279
        },
        "id": "g0EgEP0xsnB2",
        "outputId": "3beda285-2b13-42cf-d2e0-660deeb83fd9"
      },
      "source": [
        "plt.scatter(features['petal_length'], features['sepal_length'], c = labels, cmap = 'viridis')\n",
        "\n",
        "plt.xlabel('Petal length')\n",
        "plt.ylabel('Sepal length')\n",
        "plt.show()"
      ],
      "execution_count": 9,
      "outputs": [
        {
          "output_type": "display_data",
          "data": {
            "image/png": "[encoded data removed]",
            "text/plain": [
              "<Figure size 432x288 with 1 Axes>"
            ]
          },
          "metadata": {
            "needs_background": "light"
          }
        }
      ]
    },
    {
      "cell_type": "code",
      "metadata": {
        "id": "Rz730j5Us0l9"
      },
      "source": [
        "# 특성들을 단일 배열로 묶음\n",
        "\n",
        "def pack_features_vector(features, labels):\n",
        "  features = tf.stack(list(features.values()), axis=1)\n",
        "  return features, labels"
      ],
      "execution_count": 10,
      "outputs": []
    },
    {
      "cell_type": "code",
      "metadata": {
        "id": "TuTUVN6xtACY"
      },
      "source": [
        "train_dataset = train_dataset.map(pack_features_vector)"
      ],
      "execution_count": 11,
      "outputs": []
    },
    {
      "cell_type": "code",
      "metadata": {
        "colab": {
          "base_uri": "https://localhost:8080/"
        },
        "id": "fhYMwEE6tCij",
        "outputId": "d2f30978-c7b7-4d7a-ea2d-e7935edea627"
      },
      "source": [
        "features, labels = next(iter(train_dataset))\n",
        "\n",
        "print(features[:5])"
      ],
      "execution_count": 12,
      "outputs": [
        {
          "output_type": "stream",
          "name": "stdout",
          "text": [
            "tf.Tensor(\n",
            "[[4.9 2.4 3.3 1. ]\n",
            " [5.6 2.5 3.9 1.1]\n",
            " [5.1 3.8 1.5 0.3]\n",
            " [5.  3.6 1.4 0.2]\n",
            " [6.9 3.1 4.9 1.5]], shape=(5, 4), dtype=float32)\n"
          ]
        }
      ]
    },
    {
      "cell_type": "code",
      "metadata": {
        "id": "oBeQrtpDtG5U"
      },
      "source": [
        "model = tf.keras.Sequential([\n",
        "                             tf.keras.layers.Dense(10, activation = tf.nn.relu, input_shape = (4,)),\n",
        "                             tf.keras.layers.Dense(10, activation=tf.nn.relu),\n",
        "                             tf.keras.layers.Dense(3)\n",
        "])"
      ],
      "execution_count": 13,
      "outputs": []
    },
    {
      "cell_type": "code",
      "metadata": {
        "colab": {
          "base_uri": "https://localhost:8080/"
        },
        "id": "CTgKxlpDt9Mv",
        "outputId": "61a268d5-a2d3-4643-d98f-3bb6c17d3ea9"
      },
      "source": [
        "predictions = model(features)\n",
        "predictions[:5]"
      ],
      "execution_count": 14,
      "outputs": [
        {
          "output_type": "execute_result",
          "data": {
            "text/plain": [
              "<tf.Tensor: shape=(5, 3), dtype=float32, numpy=\n",
              "array([[0.08998821, 0.38725048, 0.29686704],\n",
              "       [0.07817442, 0.4289448 , 0.34715238],\n",
              "       [0.14841981, 0.0149901 , 0.23051758],\n",
              "       [0.1269684 , 0.0148428 , 0.22079197],\n",
              "       [0.13170616, 0.55412185, 0.4580471 ]], dtype=float32)>"
            ]
          },
          "metadata": {},
          "execution_count": 14
        }
      ]
    },
    {
      "cell_type": "code",
      "metadata": {
        "colab": {
          "base_uri": "https://localhost:8080/"
        },
        "id": "hhDU0amLuErz",
        "outputId": "65de086f-3569-4bba-ee51-d72d1f21bc9e"
      },
      "source": [
        "tf.nn.softmax(predictions[:5])"
      ],
      "execution_count": 15,
      "outputs": [
        {
          "output_type": "execute_result",
          "data": {
            "text/plain": [
              "<tf.Tensor: shape=(5, 3), dtype=float32, numpy=\n",
              "array([[0.27964193, 0.37644508, 0.34391302],\n",
              "       [0.26818368, 0.38086405, 0.3509522 ],\n",
              "       [0.33776358, 0.29557317, 0.36666328],\n",
              "       [0.33419132, 0.2987443 , 0.36706433],\n",
              "       [0.25565442, 0.39003727, 0.35430834]], dtype=float32)>"
            ]
          },
          "metadata": {},
          "execution_count": 15
        }
      ]
    },
    {
      "cell_type": "code",
      "metadata": {
        "colab": {
          "base_uri": "https://localhost:8080/"
        },
        "id": "RQpS3ZlvuLNF",
        "outputId": "958c4b29-25d0-47bd-f1ed-66f887921aca"
      },
      "source": [
        "print('예측 : {}'.format(tf.argmax(predictions, axis = 1)))\n",
        "print('레이블 : {}'.format(labels))\n",
        "\n",
        "# 훈련 전 상태로 예측이 좋지 않음"
      ],
      "execution_count": 16,
      "outputs": [
        {
          "output_type": "stream",
          "name": "stdout",
          "text": [
            "예측 : [1 1 2 2 1 2 2 2 2 1 2 2 1 1 1 1 1 2 1 1 1 2 1 2 1 1 1 1 1 2 1 1]\n",
            "레이블 : [1 1 0 0 1 0 0 0 0 2 0 0 2 2 2 2 1 0 1 1 2 0 1 0 2 1 2 2 1 0 2 2]\n"
          ]
        }
      ]
    },
    {
      "cell_type": "code",
      "metadata": {
        "id": "JiCrIb4puyLC"
      },
      "source": [
        "loss_object = tf.keras.losses.SparseCategoricalCrossentropy(from_logits = True)"
      ],
      "execution_count": 17,
      "outputs": []
    },
    {
      "cell_type": "code",
      "metadata": {
        "colab": {
          "base_uri": "https://localhost:8080/"
        },
        "id": "H4-YVi2Yvil1",
        "outputId": "46dc6e9b-649d-452d-ab33-3360c0bf74d7"
      },
      "source": [
        "def loss(model, x, y):\n",
        "  y_ = model(x)\n",
        "  return loss_object(y_true = y, y_pred = y_)\n",
        "\n",
        "l = loss(model, features, labels)\n",
        "print('손실 테스트 : {}'.format(l))"
      ],
      "execution_count": 18,
      "outputs": [
        {
          "output_type": "stream",
          "name": "stdout",
          "text": [
            "손실 테스트 : 1.0453282594680786\n"
          ]
        }
      ]
    },
    {
      "cell_type": "code",
      "metadata": {
        "id": "fYfCiKELvtxb"
      },
      "source": [
        "def grad(model, inputs, targets):\n",
        "  with tf.GradientTape() as tape:\n",
        "    loss_value = loss(model, inputs, targets)\n",
        "  return loss_value, tape.gradient(loss_value, model.trainable_variables)"
      ],
      "execution_count": 19,
      "outputs": []
    },
    {
      "cell_type": "code",
      "metadata": {
        "id": "FuknZiy3v5W3"
      },
      "source": [
        "optimizer = tf.keras.optimizers.Adam(learning_rate = 0.01)"
      ],
      "execution_count": 20,
      "outputs": []
    },
    {
      "cell_type": "code",
      "metadata": {
        "colab": {
          "base_uri": "https://localhost:8080/"
        },
        "id": "vGUN_uYyweds",
        "outputId": "60d4c2a9-f393-4a45-dc10-c1837019c9af"
      },
      "source": [
        "loss_value, grads = grad(model, features, labels)\n",
        "\n",
        "print('단계 : {}, 초기 손실 : {}'.format(optimizer.iterations.numpy(), loss_value.numpy()))\n",
        "\n",
        "optimizer.apply_gradients(zip(grads, model.trainable_variables))\n",
        "\n",
        "print('단계 : {}, 손실 : {}'.format(optimizer.iterations.numpy(), loss(model, features, labels).numpy()))"
      ],
      "execution_count": 21,
      "outputs": [
        {
          "output_type": "stream",
          "name": "stdout",
          "text": [
            "단계 : 0, 초기 손실 : 1.0453282594680786\n",
            "단계 : 1, 손실 : 0.9917348623275757\n"
          ]
        }
      ]
    },
    {
      "cell_type": "code",
      "metadata": {
        "colab": {
          "base_uri": "https://localhost:8080/"
        },
        "id": "xBo2bWGIw2E4",
        "outputId": "7bb9f76b-8431-491a-d87f-1c32944aab34"
      },
      "source": [
        "train_loss_results = []\n",
        "train_accuracy_results = []\n",
        "\n",
        "num_epochs = 201\n",
        "\n",
        "for epoch in range(num_epochs):\n",
        "  epoch_loss_avg = tf.keras.metrics.Mean()\n",
        "  epoch_accuracy = tf.keras.metrics.SparseCategoricalAccuracy()\n",
        "\n",
        "  for x, y in train_dataset:\n",
        "    loss_value, grads = grad(model, x, y)\n",
        "    optimizer.apply_gradients(zip(grads, model.trainable_variables))\n",
        "\n",
        "    epoch_loss_avg(loss_value)\n",
        "    epoch_accuracy(y, model(x))\n",
        "\n",
        "  train_loss_results.append(epoch_loss_avg.result())\n",
        "  train_accuracy_results.append(epoch_accuracy.result())\n",
        "\n",
        "  if epoch % 50 == 0:\n",
        "    print(\"Epoch {:03d}: Loss: {:.3f}, Accuracy: {:.3%}\".format(epoch,\n",
        "                                                                epoch_loss_avg.result(),\n",
        "                                                                epoch_accuracy.result()))"
      ],
      "execution_count": 22,
      "outputs": [
        {
          "output_type": "stream",
          "name": "stdout",
          "text": [
            "Epoch 000: Loss: 0.925, Accuracy: 65.000%\n",
            "Epoch 050: Loss: 0.078, Accuracy: 96.667%\n",
            "Epoch 100: Loss: 0.070, Accuracy: 96.667%\n",
            "Epoch 150: Loss: 0.046, Accuracy: 99.167%\n",
            "Epoch 200: Loss: 0.046, Accuracy: 99.167%\n"
          ]
        }
      ]
    },
    {
      "cell_type": "code",
      "metadata": {
        "colab": {
          "base_uri": "https://localhost:8080/",
          "height": 495
        },
        "id": "Gj96VMHnyUO0",
        "outputId": "f1613c9f-7dab-4d3e-a3a3-52a8da5dcd72"
      },
      "source": [
        "fig, axes = plt.subplots(2, sharex = True, figsize = (12, 8))\n",
        "fig.suptitle('training indicators')\n",
        "\n",
        "axes[0].set_ylabel('loss', fontsize = 14)\n",
        "axes[0].plot(train_loss_results)\n",
        "\n",
        "axes[1].set_ylabel('accuracy', fontsize = 14)\n",
        "axes[1].set_xlabel('epoch', fontsize = 14)\n",
        "axes[1].plot(train_accuracy_results)\n",
        "plt.show()"
      ],
      "execution_count": 23,
      "outputs": [
        {
          "output_type": "display_data",
          "data": {
            "image/png": "[encoded data removed]",
            "text/plain": [
              "<Figure size 864x576 with 2 Axes>"
            ]
          },
          "metadata": {
            "needs_background": "light"
          }
        }
      ]
    },
    {
      "cell_type": "code",
      "metadata": {
        "colab": {
          "base_uri": "https://localhost:8080/"
        },
        "id": "ouJzilxFy6is",
        "outputId": "a3619557-7bea-46d7-91fb-12f50677dad4"
      },
      "source": [
        "test_url = \"https://storage.googleapis.com/download.tensorflow.org/data/iris_test.csv\"\n",
        "\n",
        "test_fp = tf.keras.utils.get_file(fname=os.path.basename(test_url),\n",
        "                                  origin=test_url)"
      ],
      "execution_count": 24,
      "outputs": [
        {
          "output_type": "stream",
          "name": "stdout",
          "text": [
            "Downloading data from https://storage.googleapis.com/download.tensorflow.org/data/iris_test.csv\n",
            "\r16384/573 [=========================================================================================================================================================================================================================================================================================================================================================================================================================================================================================================================================================================================================================================================================================================================================================================================================================================================================================] - 0s 0us/step\n"
          ]
        }
      ]
    },
    {
      "cell_type": "code",
      "metadata": {
        "id": "VZhoTSyVzQpx"
      },
      "source": [
        "test_dataset = tf.data.experimental.make_csv_dataset(test_fp, batch_size, column_names = column_names, label_name = 'species', num_epochs = 1, shuffle = False)"
      ],
      "execution_count": 25,
      "outputs": []
    },
    {
      "cell_type": "code",
      "metadata": {
        "id": "8zy1j2OlzaWT"
      },
      "source": [
        "test_dataset = test_dataset.map(pack_features_vector)"
      ],
      "execution_count": 26,
      "outputs": []
    },
    {
      "cell_type": "code",
      "metadata": {
        "colab": {
          "base_uri": "https://localhost:8080/"
        },
        "id": "wzmE-f5LzdGr",
        "outputId": "096cc95f-a1d6-4ecf-e58a-9ba97d640735"
      },
      "source": [
        "test_accuracy = tf.keras.metrics.Accuracy()\n",
        "\n",
        "for (x, y) in test_dataset:\n",
        "  logits = model(x)\n",
        "  prediction = tf.argmax(logits, axis=1, output_type = tf.int32)\n",
        "  test_accuracy(prediction, y)\n",
        "\n",
        "print('테스트 세트 정확도: {:.3%}'.format(test_accuracy.result()))"
      ],
      "execution_count": 28,
      "outputs": [
        {
          "output_type": "stream",
          "name": "stdout",
          "text": [
            "테스트 세트 정확도: 96.667%\n"
          ]
        }
      ]
    },
    {
      "cell_type": "code",
      "metadata": {
        "colab": {
          "base_uri": "https://localhost:8080/"
        },
        "id": "vTIhio3P3dXd",
        "outputId": "84429957-0f3d-4195-a6a8-e3215453d32e"
      },
      "source": [
        "tf.stack([y, prediction], axis=1)"
      ],
      "execution_count": 29,
      "outputs": [
        {
          "output_type": "execute_result",
          "data": {
            "text/plain": [
              "<tf.Tensor: shape=(30, 2), dtype=int32, numpy=\n",
              "array([[1, 1],\n",
              "       [2, 2],\n",
              "       [0, 0],\n",
              "       [1, 1],\n",
              "       [1, 1],\n",
              "       [1, 1],\n",
              "       [0, 0],\n",
              "       [2, 1],\n",
              "       [1, 1],\n",
              "       [2, 2],\n",
              "       [2, 2],\n",
              "       [0, 0],\n",
              "       [2, 2],\n",
              "       [1, 1],\n",
              "       [1, 1],\n",
              "       [0, 0],\n",
              "       [1, 1],\n",
              "       [0, 0],\n",
              "       [0, 0],\n",
              "       [2, 2],\n",
              "       [0, 0],\n",
              "       [1, 1],\n",
              "       [2, 2],\n",
              "       [1, 1],\n",
              "       [1, 1],\n",
              "       [1, 1],\n",
              "       [0, 0],\n",
              "       [1, 1],\n",
              "       [2, 2],\n",
              "       [1, 1]], dtype=int32)>"
            ]
          },
          "metadata": {},
          "execution_count": 29
        }
      ]
    },
    {
      "cell_type": "code",
      "metadata": {
        "colab": {
          "base_uri": "https://localhost:8080/"
        },
        "id": "GJMPlhCF3hxM",
        "outputId": "9eed4f65-7731-4824-b398-0330b9da70ac"
      },
      "source": [
        "predict_dataset = tf.convert_to_tensor([\n",
        "                                        [5.1, 3.3, 1.7, 0.5,],\n",
        "    [5.9, 3.0, 4.2, 1.5,],\n",
        "    [6.9, 3.1, 5.4, 2.1]\n",
        "])\n",
        "\n",
        "predictions = model(predict_dataset)\n",
        "\n",
        "for i, logits in enumerate(predictions):\n",
        "  class_idx = tf.argmax(logits).numpy()\n",
        "  p = tf.nn.softmax(logits)[class_idx]\n",
        "  name = class_names[class_idx]\n",
        "  print('샘플 {} 예측: {} ({:4.1f}%)'.format(i, name, 100*p))"
      ],
      "execution_count": 31,
      "outputs": [
        {
          "output_type": "stream",
          "name": "stdout",
          "text": [
            "샘플 0 예측: Iris setosa (100.0%)\n",
            "샘플 1 예측: Iris versicolor (99.9%)\n",
            "샘플 2 예측: Iris virginica (98.2%)\n"
          ]
        }
      ]
    },
    {
      "cell_type": "code",
      "metadata": {
        "id": "--1IGAPW3-7C"
      },
      "source": [
        ""
      ],
      "execution_count": null,
      "outputs": []
    }
  ]
}