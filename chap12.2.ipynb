{
 "cells": [
  {
   "cell_type": "markdown",
   "id": "interesting-removal",
   "metadata": {},
   "source": [
    "저수준 파이썬 API 살펴보기"
   ]
  },
  {
   "cell_type": "code",
   "execution_count": null,
   "id": "hidden-reason",
   "metadata": {},
   "outputs": [],
   "source": [
    "import sys\n",
    "import sklearn\n",
    "import tensorflow as tf\n",
    "from tensorflow import keras\n",
    "import numpy as np\n",
    "import os"
   ]
  },
  {
   "cell_type": "code",
   "execution_count": null,
   "id": "valid-claim",
   "metadata": {},
   "outputs": [],
   "source": [
    "np.random.seed(42)\n",
    "tf.random.set_seed(42)"
   ]
  },
  {
   "cell_type": "code",
   "execution_count": null,
   "id": "documentary-lotus",
   "metadata": {},
   "outputs": [],
   "source": [
    "import matplotlib as mpl\n",
    "import matplotlib.pyplot as plt\n",
    "mpl.rc('axes', labelsize=14)\n",
    "mpl.rc('xtick', labelsize=12)\n",
    "mpl.rc('ytick', labelsize=12)\n",
    "\n",
    "#그림을 저장한 위치\n",
    "PROJECT_ROOT_DIR = \".\"\n",
    "CHAPTER_ID = \"deep\"\n",
    "IMAGES_PATH = os.path.join(PROJECT_ROOT_DIR, \"images\", CHAPTER_ID)\n",
    "os.makedirs(IMAGES_PATH, exist_ok=True)\n",
    "\n",
    "def save_fig(fig_id, tight_layout=True, fig_extension=\"png\", resolution=300):\n",
    "    path = os.path.join(IMAGES_PATH, fig_id + \".\" + fig_extension)\n",
    "    print(\"그림 저장:\", fig_id)\n",
    "    if tight_layout:\n",
    "        plt.tight_layout()\n",
    "    plt.savefig(path, format=fig_extension, dpi=resolution)"
   ]
  },
  {
   "cell_type": "code",
   "execution_count": null,
   "id": "confidential-orbit",
   "metadata": {},
   "outputs": [],
   "source": [
    "#CPU와 GPU가 작동되는지 확인\n",
    "from tensorflow.python.client import device_lib\n",
    "device_lib.list_local_devices()"
   ]
  },
  {
   "cell_type": "markdown",
   "id": "pregnant-placement",
   "metadata": {},
   "source": [
    "## 12.2 넘파이처럼 텐서플로 사용하기\n",
    "### 12.2.1 텐서와 연산"
   ]
  },
  {
   "cell_type": "markdown",
   "id": "directed-roman",
   "metadata": {},
   "source": [
    "텐서 작동하기"
   ]
  },
  {
   "cell_type": "code",
   "execution_count": null,
   "id": "phantom-convert",
   "metadata": {},
   "outputs": [],
   "source": [
    "tf.constant([[1.,2.,3.],[4.,5.,6.]])"
   ]
  },
  {
   "cell_type": "code",
   "execution_count": null,
   "id": "popular-surgeon",
   "metadata": {},
   "outputs": [],
   "source": [
    "tf.constant(42)"
   ]
  },
  {
   "cell_type": "code",
   "execution_count": null,
   "id": "superb-night",
   "metadata": {},
   "outputs": [],
   "source": [
    "t = tf.constant([[1.,2.,3.],[4.,5.,6.]])\n",
    "t"
   ]
  },
  {
   "cell_type": "code",
   "execution_count": null,
   "id": "duplicate-hierarchy",
   "metadata": {},
   "outputs": [],
   "source": [
    "t.shape"
   ]
  },
  {
   "cell_type": "code",
   "execution_count": null,
   "id": "unique-cutting",
   "metadata": {},
   "outputs": [],
   "source": [
    "t.dtype"
   ]
  },
  {
   "cell_type": "code",
   "execution_count": null,
   "id": "empirical-ownership",
   "metadata": {},
   "outputs": [],
   "source": [
    "t[:,1:]"
   ]
  },
  {
   "cell_type": "code",
   "execution_count": null,
   "id": "happy-adapter",
   "metadata": {},
   "outputs": [],
   "source": [
    "t[..., 1, tf.newaxis]"
   ]
  },
  {
   "cell_type": "markdown",
   "id": "celtic-roberts",
   "metadata": {},
   "source": [
    "연산하기"
   ]
  },
  {
   "cell_type": "code",
   "execution_count": null,
   "id": "brazilian-bullet",
   "metadata": {},
   "outputs": [],
   "source": [
    "t + 10 # == tf.add(t, 10)"
   ]
  },
  {
   "cell_type": "code",
   "execution_count": null,
   "id": "sealed-samoa",
   "metadata": {},
   "outputs": [],
   "source": [
    "tf.square(t)"
   ]
  },
  {
   "cell_type": "code",
   "execution_count": null,
   "id": "brown-picnic",
   "metadata": {},
   "outputs": [],
   "source": [
    "t @ tf.transpose(t)"
   ]
  },
  {
   "cell_type": "markdown",
   "id": "integral-providence",
   "metadata": {},
   "source": [
    "keras의 저수준 API\n",
    "\n",
    "keras.backend 사용하기"
   ]
  },
  {
   "cell_type": "code",
   "execution_count": null,
   "id": "rapid-enemy",
   "metadata": {},
   "outputs": [],
   "source": [
    "K = keras.backend\n",
    "K.square(K.transpose(t)) + 10"
   ]
  },
  {
   "cell_type": "markdown",
   "id": "suited-smooth",
   "metadata": {},
   "source": [
    "### 12.2.2 텐서와 넘파이"
   ]
  },
  {
   "cell_type": "code",
   "execution_count": null,
   "id": "visible-amendment",
   "metadata": {},
   "outputs": [],
   "source": [
    "a = np.array([2.,4.,5.])\n",
    "tf.constant(a)"
   ]
  },
  {
   "cell_type": "code",
   "execution_count": null,
   "id": "julian-scottish",
   "metadata": {},
   "outputs": [],
   "source": [
    "t.numpy() # == np.array(t)"
   ]
  },
  {
   "cell_type": "code",
   "execution_count": null,
   "id": "cubic-gibraltar",
   "metadata": {},
   "outputs": [],
   "source": [
    "tf.square(a)"
   ]
  },
  {
   "cell_type": "code",
   "execution_count": null,
   "id": "expensive-person",
   "metadata": {},
   "outputs": [],
   "source": [
    "np.square(t)"
   ]
  },
  {
   "cell_type": "markdown",
   "id": "naval-prior",
   "metadata": {},
   "source": [
    "### 12.2.3 타입 변환\n",
    "타입 변환은 성능을 크게 감소시킬 수 있기 때문에 텐서플로는 타입 변환을 직접 실행해야 한다. 호환되지 않는 타입의 텐서로 연산을 실행하면 예외가 발생하는 점을 유의하자."
   ]
  },
  {
   "cell_type": "code",
   "execution_count": null,
   "id": "together-swimming",
   "metadata": {},
   "outputs": [],
   "source": [
    "try:\n",
    "    tf.constant(2.) + tf.constant(40)\n",
    "except tf.errors.InvalidArgumentError as ex:\n",
    "        print(ex)\n",
    "# InvalidArguementError 발생"
   ]
  },
  {
   "cell_type": "code",
   "execution_count": null,
   "id": "several-effect",
   "metadata": {},
   "outputs": [],
   "source": [
    "try:\n",
    "    tf.constant(2.0) + tf.constant(40., dtype=tf.float64)\n",
    "except tf.errors.InvalidArgumentError as ex:\n",
    "    print(ex)"
   ]
  },
  {
   "cell_type": "code",
   "execution_count": null,
   "id": "excess-humanity",
   "metadata": {},
   "outputs": [],
   "source": [
    "t2 = tf.constant(40., dtype = tf.float64)\n",
    "tf.constant(2.0) + tf.cast(t2, tf.float32)"
   ]
  },
  {
   "cell_type": "markdown",
   "id": "varying-tobacco",
   "metadata": {},
   "source": [
    "### 12.2.4 변수"
   ]
  },
  {
   "cell_type": "code",
   "execution_count": null,
   "id": "little-malpractice",
   "metadata": {},
   "outputs": [],
   "source": [
    "v = tf.Variable([[1., 2., 3.], [4.,5.,6.]])"
   ]
  },
  {
   "cell_type": "code",
   "execution_count": null,
   "id": "color-disabled",
   "metadata": {},
   "outputs": [],
   "source": [
    "v.assign(2*v)"
   ]
  },
  {
   "cell_type": "code",
   "execution_count": null,
   "id": "speaking-dayton",
   "metadata": {},
   "outputs": [],
   "source": [
    "v[0,1].assign(42)"
   ]
  },
  {
   "cell_type": "code",
   "execution_count": null,
   "id": "referenced-mainland",
   "metadata": {},
   "outputs": [],
   "source": [
    "v[:, 2].assign([0., 1.])"
   ]
  },
  {
   "cell_type": "code",
   "execution_count": null,
   "id": "english-dictionary",
   "metadata": {},
   "outputs": [],
   "source": [
    "try:\n",
    "    v[1] = [7.,8.,9.]\n",
    "except TypeError as ex:\n",
    "    print(ex)"
   ]
  },
  {
   "cell_type": "code",
   "execution_count": null,
   "id": "seventh-purple",
   "metadata": {},
   "outputs": [],
   "source": [
    "v.scatter_nd_update(indices=[[0,0],[1,2]],\n",
    "                   updates=[100., 200.])"
   ]
  },
  {
   "cell_type": "code",
   "execution_count": null,
   "id": "bearing-phenomenon",
   "metadata": {},
   "outputs": [],
   "source": [
    "sparse_delta = tf.IndexedSlices(values=[[1.,2.,3.],[4.,5.,6.]],\n",
    "                               indices = [1,0])\n",
    "v.scatter_update(sparse_delta)"
   ]
  }
 ],
 "metadata": {
  "kernelspec": {
   "display_name": "Python 3",
   "language": "python",
   "name": "python3"
  },
  "language_info": {
   "codemirror_mode": {
    "name": "ipython",
    "version": 3
   },
   "file_extension": ".py",
   "mimetype": "text/x-python",
   "name": "python",
   "nbconvert_exporter": "python",
   "pygments_lexer": "ipython3",
   "version": "3.6.9"
  }
 },
 "nbformat": 4,
 "nbformat_minor": 5
}
