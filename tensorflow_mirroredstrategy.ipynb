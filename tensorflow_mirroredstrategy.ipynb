{
  "nbformat": 4,
  "nbformat_minor": 0,
  "metadata": {
    "colab": {
      "name": "tensorflow_mirroredstrategy.ipynb",
      "provenance": [],
      "authorship_tag": "ABX9TyOBu/L2+n8fxTPws93DgD3b"
    },
    "kernelspec": {
      "name": "python3",
      "display_name": "Python 3"
    },
    "language_info": {
      "name": "python"
    },
    "accelerator": "GPU"
  },
  "cells": [
    {
      "cell_type": "markdown",
      "metadata": {
        "id": "4jdMafNhsc9A"
      },
      "source": [
        "tf.distributed.strategy : 훈련을 여러 처리 장치들로 분산시키는 것을 추상화함\n",
        "\n",
        "tf.distributed.MirroredStrategy : 동기화된 훈련 방식을 활용하여 한 장비에 있는 여러 개의 GPU로 그래프 내 복제를 수행 -> 각 프로세서의 gradient를 all-reduce를 사용하여 모음 -> 모아서 계산한 값을 각 프로세서의 모델 복사본에 적용"
      ]
    },
    {
      "cell_type": "code",
      "metadata": {
        "colab": {
          "base_uri": "https://localhost:8080/"
        },
        "id": "Gafbh-zIsN64",
        "outputId": "3ac25ba3-5b5d-40b3-c22d-69ca8e759bc1"
      },
      "source": [
        "!pip install -q tensorflow-gpu==2.0.0-rc1\n",
        "import tensorflow_datasets as tfds\n",
        "import tensorflow as tf\n",
        "tfds.disable_progress_bar()\n",
        "\n",
        "import os"
      ],
      "execution_count": 31,
      "outputs": [
        {
          "output_type": "stream",
          "name": "stdout",
          "text": [
            "\u001b[K     |████████████████████████████████| 380.5 MB 9.7 kB/s \n",
            "\u001b[K     |████████████████████████████████| 50 kB 5.5 MB/s \n",
            "\u001b[K     |████████████████████████████████| 4.3 MB 49.5 MB/s \n",
            "\u001b[K     |████████████████████████████████| 501 kB 47.4 MB/s \n",
            "\u001b[?25h"
          ]
        }
      ]
    },
    {
      "cell_type": "code",
      "metadata": {
        "id": "05SYMkPJuwFz"
      },
      "source": [
        "datasets, info = tfds.load(name = 'mnist', with_info = True, as_supervised = True)\n",
        "\n",
        "mnist_train, mnist_test = datasets['train'], datasets['test']"
      ],
      "execution_count": 32,
      "outputs": []
    },
    {
      "cell_type": "code",
      "metadata": {
        "colab": {
          "base_uri": "https://localhost:8080/"
        },
        "id": "F3L2Pf4fu_hj",
        "outputId": "e2f969af-7974-463c-c556-6b41881888e9"
      },
      "source": [
        "strategy = tf.distribute.MirroredStrategy()"
      ],
      "execution_count": 33,
      "outputs": [
        {
          "output_type": "stream",
          "name": "stdout",
          "text": [
            "INFO:tensorflow:Using MirroredStrategy with devices ('/job:localhost/replica:0/task:0/device:GPU:0',)\n"
          ]
        },
        {
          "output_type": "stream",
          "name": "stderr",
          "text": [
            "INFO:tensorflow:Using MirroredStrategy with devices ('/job:localhost/replica:0/task:0/device:GPU:0',)\n"
          ]
        }
      ]
    },
    {
      "cell_type": "code",
      "metadata": {
        "colab": {
          "base_uri": "https://localhost:8080/"
        },
        "id": "ta4wlXlWvpwY",
        "outputId": "33fce32e-bc60-448e-f8ba-8164357d9c1c"
      },
      "source": [
        "print('장치의 수 : {}'.format(strategy.num_replicas_in_sync))"
      ],
      "execution_count": 34,
      "outputs": [
        {
          "output_type": "stream",
          "name": "stdout",
          "text": [
            "장치의 수 : 1\n"
          ]
        }
      ]
    },
    {
      "cell_type": "markdown",
      "metadata": {
        "id": "bwajZNYpvw2A"
      },
      "source": [
        "### 입력 파이프라인 구성하기\n",
        "\n",
        "다중 GPU로 모델을 훈련할 때는 배치 크기를 늘려야 컴퓨팅 자원을 효과적으로 사용 가능함\n",
        "GPU 메모리에 맞추어 가능한 가장 큰 배치 크기 사용 -> 학습률 조정"
      ]
    },
    {
      "cell_type": "code",
      "metadata": {
        "id": "2eA80egIvt_L"
      },
      "source": [
        "num_train_examples = info.splits['train'].num_examples\n",
        "num_test_examples = info.splits['test'].num_examples\n",
        "\n",
        "BUFFER_SIZE = 10000\n",
        "BATCH_SIZE_PER_REPLICA = 64\n",
        "BATCH_SIZE = BATCH_SIZE_PER_REPLICA * strategy.num_replicas_in_sync"
      ],
      "execution_count": 35,
      "outputs": []
    },
    {
      "cell_type": "code",
      "metadata": {
        "id": "JH9GjPXHwTTa"
      },
      "source": [
        "def scale(image, label):\n",
        "  image = tf.cast(image, tf.float32)\n",
        "  image /= 255\n",
        "\n",
        "  return image, label"
      ],
      "execution_count": 36,
      "outputs": []
    },
    {
      "cell_type": "code",
      "metadata": {
        "id": "9sE8GODEwdr9"
      },
      "source": [
        "train_dataset = mnist_train.map(scale).shuffle(BUFFER_SIZE).batch(BATCH_SIZE)\n",
        "eval_dataset = mnist_test.map(scale).batch(BATCH_SIZE)"
      ],
      "execution_count": 37,
      "outputs": []
    },
    {
      "cell_type": "code",
      "metadata": {
        "id": "MmCcHuYown2j"
      },
      "source": [
        "with strategy.scope():\n",
        "  model = tf.keras.Sequential([\n",
        "                               tf.keras.layers.Conv2D(32, 3, activation = 'relu', input_shape = (28,28,1)),\n",
        "                               tf.keras.layers.MaxPooling2D(),\n",
        "                               tf.keras.layers.Flatten(),\n",
        "                               tf.keras.layers.Dense(64, activation = 'relu'),\n",
        "                               tf.keras.layers.Dense(10, activation = 'softmax')\n",
        "  ])\n",
        "\n",
        "  model.compile(loss = 'sparse_categorical_crossentropy', optimizer = tf.keras.optimizers.Adam(), metrics = ['accuracy'])"
      ],
      "execution_count": 38,
      "outputs": []
    },
    {
      "cell_type": "markdown",
      "metadata": {
        "id": "V1cYfGUeBAWK"
      },
      "source": [
        "### 콜백 정의하기\n",
        "\n",
        "tensorboard : 텐서보드용 로그를 남겨 텐서보드에서 그래프를 그리게 함\n",
        "model checkpoint : 매 에포크가 끝난 후 모델을 저장\n",
        "learning rate scheduler : 매 에포크 혹은 배치가 끝난 후 학습률을 바꿀 수 있음"
      ]
    },
    {
      "cell_type": "code",
      "metadata": {
        "id": "Fuv0yG4YxLXF"
      },
      "source": [
        "checkpoint_dir = './training_checkpoints'\n",
        "\n",
        "checkpoint_prefix = os.path.join(checkpoint_dir, 'ckpt_{epoch}')"
      ],
      "execution_count": 39,
      "outputs": []
    },
    {
      "cell_type": "code",
      "metadata": {
        "id": "Y5B_0PbzBZ00"
      },
      "source": [
        "def decay(epoch):\n",
        "  if epoch < 3:\n",
        "    return 1e-3\n",
        "  elif epoch >= 3 and epoch < 7:\n",
        "    return 1e-4\n",
        "  else:\n",
        "    return 1e-5"
      ],
      "execution_count": 40,
      "outputs": []
    },
    {
      "cell_type": "code",
      "metadata": {
        "id": "5PIdYo7WBiZL"
      },
      "source": [
        "class PrintLR(tf.keras.callbacks.Callback):\n",
        "  def on_epoch_end(self, epoch, logs = None):\n",
        "    print('\\n 에포크 {}의 학습률은 {}입니다.'.format(epoch + 1 , model.optimizer.lr.numpy()))"
      ],
      "execution_count": 41,
      "outputs": []
    },
    {
      "cell_type": "code",
      "metadata": {
        "id": "-v7EDXhUBv1B"
      },
      "source": [
        "callbacks = [\n",
        "             tf.keras.callbacks.TensorBoard(log_dir = './dirs'),\n",
        "             tf.keras.callbacks.ModelCheckpoint(filepath = checkpoint_prefix, save_weights_only = True),\n",
        "             tf.keras.callbacks.LearningRateScheduler(decay),\n",
        "             PrintLR()\n",
        "]"
      ],
      "execution_count": 42,
      "outputs": []
    },
    {
      "cell_type": "markdown",
      "metadata": {
        "id": "N8ZeH3GVCBAw"
      },
      "source": [
        "훈련 & 평가"
      ]
    },
    {
      "cell_type": "code",
      "metadata": {
        "colab": {
          "base_uri": "https://localhost:8080/"
        },
        "id": "fE-dCx1DB_4K",
        "outputId": "eb59df33-68d7-4f25-9f1c-230af124093b"
      },
      "source": [
        "model.fit(train_dataset, epochs = 12, callbacks = callbacks)"
      ],
      "execution_count": 43,
      "outputs": [
        {
          "output_type": "stream",
          "name": "stdout",
          "text": [
            "Epoch 1/12\n",
            "  3/938 [..............................] - ETA: 3:53 - loss: 2.2092 - accuracy: 0.2396WARNING:tensorflow:Callback method `on_train_batch_begin` is slow compared to the batch time (batch time: 0.0091s vs `on_train_batch_begin` time: 0.0287s). Check your callbacks.\n"
          ]
        },
        {
          "output_type": "stream",
          "name": "stderr",
          "text": [
            "WARNING:tensorflow:Callback method `on_train_batch_begin` is slow compared to the batch time (batch time: 0.0091s vs `on_train_batch_begin` time: 0.0287s). Check your callbacks.\n"
          ]
        },
        {
          "output_type": "stream",
          "name": "stdout",
          "text": [
            "WARNING:tensorflow:Callback method `on_train_batch_end` is slow compared to the batch time (batch time: 0.0091s vs `on_train_batch_end` time: 0.0527s). Check your callbacks.\n"
          ]
        },
        {
          "output_type": "stream",
          "name": "stderr",
          "text": [
            "WARNING:tensorflow:Callback method `on_train_batch_end` is slow compared to the batch time (batch time: 0.0091s vs `on_train_batch_end` time: 0.0527s). Check your callbacks.\n"
          ]
        },
        {
          "output_type": "stream",
          "name": "stdout",
          "text": [
            "938/938 [==============================] - 19s 16ms/step - loss: 0.2131 - accuracy: 0.9381\n",
            "\n",
            " 에포크 1의 학습률은 0.0010000000474974513입니다.\n",
            "Epoch 2/12\n",
            "938/938 [==============================] - 9s 9ms/step - loss: 0.0670 - accuracy: 0.9799\n",
            "\n",
            " 에포크 2의 학습률은 0.0010000000474974513입니다.\n",
            "Epoch 3/12\n",
            "938/938 [==============================] - 9s 9ms/step - loss: 0.0458 - accuracy: 0.9861\n",
            "\n",
            " 에포크 3의 학습률은 0.0010000000474974513입니다.\n",
            "Epoch 4/12\n",
            "938/938 [==============================] - 9s 9ms/step - loss: 0.0253 - accuracy: 0.9930\n",
            "\n",
            " 에포크 4의 학습률은 9.999999747378752e-05입니다.\n",
            "Epoch 5/12\n",
            "938/938 [==============================] - 9s 9ms/step - loss: 0.0223 - accuracy: 0.9941\n",
            "\n",
            " 에포크 5의 학습률은 9.999999747378752e-05입니다.\n",
            "Epoch 6/12\n",
            "938/938 [==============================] - 9s 9ms/step - loss: 0.0207 - accuracy: 0.9944\n",
            "\n",
            " 에포크 6의 학습률은 9.999999747378752e-05입니다.\n",
            "Epoch 7/12\n",
            "938/938 [==============================] - 9s 9ms/step - loss: 0.0191 - accuracy: 0.9952\n",
            "\n",
            " 에포크 7의 학습률은 9.999999747378752e-05입니다.\n",
            "Epoch 8/12\n",
            "938/938 [==============================] - 9s 9ms/step - loss: 0.0167 - accuracy: 0.9962\n",
            "\n",
            " 에포크 8의 학습률은 9.999999747378752e-06입니다.\n",
            "Epoch 9/12\n",
            "938/938 [==============================] - 9s 9ms/step - loss: 0.0164 - accuracy: 0.9963\n",
            "\n",
            " 에포크 9의 학습률은 9.999999747378752e-06입니다.\n",
            "Epoch 10/12\n",
            "938/938 [==============================] - 9s 9ms/step - loss: 0.0163 - accuracy: 0.9964\n",
            "\n",
            " 에포크 10의 학습률은 9.999999747378752e-06입니다.\n",
            "Epoch 11/12\n",
            "938/938 [==============================] - 9s 9ms/step - loss: 0.0161 - accuracy: 0.9964\n",
            "\n",
            " 에포크 11의 학습률은 9.999999747378752e-06입니다.\n",
            "Epoch 12/12\n",
            "938/938 [==============================] - 9s 9ms/step - loss: 0.0160 - accuracy: 0.9965\n",
            "\n",
            " 에포크 12의 학습률은 9.999999747378752e-06입니다.\n"
          ]
        },
        {
          "output_type": "execute_result",
          "data": {
            "text/plain": [
              "<keras.callbacks.History at 0x7fc00676b690>"
            ]
          },
          "metadata": {},
          "execution_count": 43
        }
      ]
    },
    {
      "cell_type": "code",
      "metadata": {
        "colab": {
          "base_uri": "https://localhost:8080/"
        },
        "id": "OgeYbhpMCGpr",
        "outputId": "70472d04-f1e7-4ee8-d3af-08f6168a59d3"
      },
      "source": [
        "ls {checkpoint_dir}"
      ],
      "execution_count": 44,
      "outputs": [
        {
          "output_type": "stream",
          "name": "stdout",
          "text": [
            "checkpoint                   ckpt_4.data-00000-of-00001\n",
            "ckpt_10.data-00000-of-00001  ckpt_4.index\n",
            "ckpt_10.index                ckpt_5.data-00000-of-00001\n",
            "ckpt_11.data-00000-of-00001  ckpt_5.index\n",
            "ckpt_11.index                ckpt_6.data-00000-of-00001\n",
            "ckpt_12.data-00000-of-00001  ckpt_6.index\n",
            "ckpt_12.index                ckpt_7.data-00000-of-00001\n",
            "ckpt_1.data-00000-of-00001   ckpt_7.index\n",
            "ckpt_1.index                 ckpt_8.data-00000-of-00001\n",
            "ckpt_2.data-00000-of-00001   ckpt_8.index\n",
            "ckpt_2.index                 ckpt_9.data-00000-of-00001\n",
            "ckpt_3.data-00000-of-00001   ckpt_9.index\n",
            "ckpt_3.index\n"
          ]
        }
      ]
    },
    {
      "cell_type": "code",
      "metadata": {
        "colab": {
          "base_uri": "https://localhost:8080/"
        },
        "id": "SWG2rObuDJo5",
        "outputId": "4a416d5d-1405-4529-cf27-79174ee68890"
      },
      "source": [
        "model.load_weights(tf.train.latest_checkpoint(checkpoint_dir))\n",
        "eval_loss, eval_acc = model.evaluate(eval_dataset)\n",
        "print('평가 손실 : {}, 평가 정확도 : {}'.format(eval_loss, eval_acc))"
      ],
      "execution_count": 45,
      "outputs": [
        {
          "output_type": "stream",
          "name": "stdout",
          "text": [
            "157/157 [==============================] - 4s 15ms/step - loss: 0.0391 - accuracy: 0.9870\n",
            "평가 손실 : 0.03905589133501053, 평가 정확도 : 0.9869999885559082\n"
          ]
        }
      ]
    },
    {
      "cell_type": "code",
      "metadata": {
        "id": "2dhT3swGDhZy"
      },
      "source": [
        "import tensorboard"
      ],
      "execution_count": 46,
      "outputs": []
    },
    {
      "cell_type": "code",
      "metadata": {
        "colab": {
          "base_uri": "https://localhost:8080/"
        },
        "id": "7nvO8agbEMuP",
        "outputId": "284c5e7f-18a0-4309-bcb0-690ddc37bac0"
      },
      "source": [
        "%load_ext tensorboard"
      ],
      "execution_count": 47,
      "outputs": [
        {
          "output_type": "stream",
          "name": "stdout",
          "text": [
            "The tensorboard extension is already loaded. To reload it, use:\n",
            "  %reload_ext tensorboard\n"
          ]
        }
      ]
    },
    {
      "cell_type": "markdown",
      "metadata": {
        "id": "TI9Oo6LdFRT9"
      },
      "source": [
        "SavedModel로 내보내기"
      ]
    },
    {
      "cell_type": "code",
      "metadata": {
        "id": "vCJsu2uNE2RP"
      },
      "source": [
        "path = 'saved_model/'"
      ],
      "execution_count": 49,
      "outputs": []
    },
    {
      "cell_type": "code",
      "metadata": {
        "colab": {
          "base_uri": "https://localhost:8080/"
        },
        "id": "vwcoJur-FVS9",
        "outputId": "decfed9a-d839-4c8e-bdd2-1fcdf2a5381e"
      },
      "source": [
        "model.save(path)"
      ],
      "execution_count": 51,
      "outputs": [
        {
          "output_type": "stream",
          "name": "stdout",
          "text": [
            "INFO:tensorflow:Assets written to: saved_model/assets\n"
          ]
        },
        {
          "output_type": "stream",
          "name": "stderr",
          "text": [
            "INFO:tensorflow:Assets written to: saved_model/assets\n"
          ]
        }
      ]
    },
    {
      "cell_type": "code",
      "metadata": {
        "id": "c08hmvmgFXpy"
      },
      "source": [
        "# strategy.scope 없이 모델 부르기\n",
        "\n",
        "unreplicated_model = tf.keras.models.load_model(path)"
      ],
      "execution_count": 53,
      "outputs": []
    },
    {
      "cell_type": "code",
      "metadata": {
        "colab": {
          "base_uri": "https://localhost:8080/"
        },
        "id": "Vze76i5xGuqi",
        "outputId": "1d878186-aac4-4e5a-d10a-4a9c1e96bce4"
      },
      "source": [
        "unreplicated_model.compile(\n",
        "    loss='sparse_categorical_crossentropy',\n",
        "    optimizer=tf.keras.optimizers.Adam(),\n",
        "    metrics=['accuracy'])\n",
        "\n",
        "eval_loss, eval_acc = unreplicated_model.evaluate(eval_dataset)\n",
        "\n",
        "print('평가 손실: {}, 평가 정확도: {}'.format(eval_loss, eval_acc))"
      ],
      "execution_count": 54,
      "outputs": [
        {
          "output_type": "stream",
          "name": "stdout",
          "text": [
            "157/157 [==============================] - 1s 6ms/step - loss: 0.0391 - accuracy: 0.9870\n",
            "평가 손실: 0.03905589133501053, 평가 정확도: 0.9869999885559082\n"
          ]
        }
      ]
    },
    {
      "cell_type": "code",
      "metadata": {
        "colab": {
          "base_uri": "https://localhost:8080/"
        },
        "id": "gwgxWcchGyLR",
        "outputId": "3f4014ac-03ad-4202-bc0b-f1d18af832da"
      },
      "source": [
        "# strategy.scope으로 부르기\n",
        "\n",
        "with strategy.scope():\n",
        "  replicated_model = tf.keras.models.load_model(path)\n",
        "  replicated_model.compile(loss='sparse_categorical_crossentropy', optimizer = tf.keras.optimizers.Adam(),\n",
        "                           metrics = ['accuracy'])\n",
        "  eval_loss, eval_acc = replicated_model.evaluate(eval_dataset)\n",
        "  print('평가 손실: {}, 평가 정확도: {}'.format(eval_loss, eval_acc))"
      ],
      "execution_count": 55,
      "outputs": [
        {
          "output_type": "stream",
          "name": "stdout",
          "text": [
            "157/157 [==============================] - 4s 8ms/step - loss: 0.0391 - accuracy: 0.9870\n",
            "평가 손실: 0.03905589133501053, 평가 정확도: 0.9869999885559082\n"
          ]
        }
      ]
    },
    {
      "cell_type": "code",
      "metadata": {
        "id": "LMqiIo9HHW6O"
      },
      "source": [
        ""
      ],
      "execution_count": null,
      "outputs": []
    }
  ]
}