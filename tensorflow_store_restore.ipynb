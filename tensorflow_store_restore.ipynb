{
  "nbformat": 4,
  "nbformat_minor": 0,
  "metadata": {
    "colab": {
      "name": "tensorflow_store_restore.ipynb",
      "provenance": [],
      "authorship_tag": "ABX9TyPXF9RE7KEeGdqnksywY24Z"
    },
    "kernelspec": {
      "name": "python3",
      "display_name": "Python 3"
    },
    "language_info": {
      "name": "python"
    }
  },
  "cells": [
    {
      "cell_type": "code",
      "metadata": {
        "colab": {
          "base_uri": "https://localhost:8080/"
        },
        "id": "LHbwj4QaKbp8",
        "outputId": "8870ef98-b85f-4399-c3a3-425e8a16d289"
      },
      "source": [
        "import os\n",
        "\n",
        "import tensorflow as tf\n",
        "from tensorflow import keras\n",
        "\n",
        "print(tf.version.VERSION)"
      ],
      "execution_count": 1,
      "outputs": [
        {
          "output_type": "stream",
          "name": "stdout",
          "text": [
            "2.6.0\n"
          ]
        }
      ]
    },
    {
      "cell_type": "code",
      "metadata": {
        "colab": {
          "base_uri": "https://localhost:8080/"
        },
        "id": "8RsWRPQ-Kpou",
        "outputId": "e24e6722-0a33-450c-970e-db6bae6cb9a6"
      },
      "source": [
        "(train_images, train_labels), (test_images, test_labels) = tf.keras.datasets.mnist.load_data()\n",
        "\n",
        "train_labels = train_labels[:1000]\n",
        "test_labels = test_labels[:1000]\n",
        "\n",
        "train_images = train_images[:1000].reshape(-1, 28 * 28) / 255.0\n",
        "test_images = test_images[:1000].reshape(-1, 28 * 28) / 255.0"
      ],
      "execution_count": 2,
      "outputs": [
        {
          "output_type": "stream",
          "name": "stdout",
          "text": [
            "Downloading data from https://storage.googleapis.com/tensorflow/tf-keras-datasets/mnist.npz\n",
            "11493376/11490434 [==============================] - 0s 0us/step\n",
            "11501568/11490434 [==============================] - 0s 0us/step\n"
          ]
        }
      ]
    },
    {
      "cell_type": "code",
      "metadata": {
        "id": "rNXCN22wKr_Y"
      },
      "source": [
        "def create_model():\n",
        "  model = tf.keras.models.Sequential([\n",
        "                                      keras.layers.Dense(512, activation = 'relu', input_shape = (784,)),\n",
        "                                      keras.layers.Dropout(0.2),\n",
        "                                      keras.layers.Dense(10)\n",
        "  ])\n",
        "\n",
        "  model.compile(optimizer = 'adam', loss = tf.losses.SparseCategoricalCrossentropy(from_logits = True),\n",
        "                metrics = ['accuracy'])\n",
        "  return model"
      ],
      "execution_count": 5,
      "outputs": []
    },
    {
      "cell_type": "code",
      "metadata": {
        "colab": {
          "base_uri": "https://localhost:8080/"
        },
        "id": "haMXyGbQKw6w",
        "outputId": "eb0c7388-8039-4e7d-e7c2-90d19cb0c429"
      },
      "source": [
        "model = create_model()\n",
        "\n",
        "model.summary()"
      ],
      "execution_count": 6,
      "outputs": [
        {
          "output_type": "stream",
          "name": "stdout",
          "text": [
            "Model: \"sequential\"\n",
            "_________________________________________________________________\n",
            "Layer (type)                 Output Shape              Param #   \n",
            "=================================================================\n",
            "dense_1 (Dense)              (None, 512)               401920    \n",
            "_________________________________________________________________\n",
            "dropout (Dropout)            (None, 512)               0         \n",
            "_________________________________________________________________\n",
            "dense_2 (Dense)              (None, 10)                5130      \n",
            "=================================================================\n",
            "Total params: 407,050\n",
            "Trainable params: 407,050\n",
            "Non-trainable params: 0\n",
            "_________________________________________________________________\n"
          ]
        }
      ]
    },
    {
      "cell_type": "code",
      "metadata": {
        "colab": {
          "base_uri": "https://localhost:8080/"
        },
        "id": "v0uz00QBLKVG",
        "outputId": "7ecc8729-0f2c-422f-c89f-ca4abed56d4f"
      },
      "source": [
        "# 훈련된 모델을 다시 훈련할 필요 없이 사용하거나 훈련 과정이 중단된 경우 중단한 부분에서 훈련을 다시 시작\n",
        "\n",
        "checkpoint_path = 'training_1/cp.ckpt'\n",
        "checkpoint_dir = os.path.dirname(checkpoint_path)\n",
        "\n",
        "cp_callback = tf.keras.callbacks.ModelCheckpoint(filepath = checkpoint_path, save_weights_only=True, verbose = 1)\n",
        "\n",
        "model.fit(train_images, train_labels, epochs = 10, validation_data = (test_images, test_labels), callbacks = [cp_callback])"
      ],
      "execution_count": 9,
      "outputs": [
        {
          "output_type": "stream",
          "name": "stdout",
          "text": [
            "Epoch 1/10\n",
            "32/32 [==============================] - 1s 12ms/step - loss: 1.1250 - accuracy: 0.6740 - val_loss: 0.7281 - val_accuracy: 0.7810\n",
            "\n",
            "Epoch 00001: saving model to training_1/cp.ckpt\n",
            "Epoch 2/10\n",
            "32/32 [==============================] - 0s 10ms/step - loss: 0.4152 - accuracy: 0.8850 - val_loss: 0.5189 - val_accuracy: 0.8470\n",
            "\n",
            "Epoch 00002: saving model to training_1/cp.ckpt\n",
            "Epoch 3/10\n",
            "32/32 [==============================] - 0s 7ms/step - loss: 0.2889 - accuracy: 0.9230 - val_loss: 0.4682 - val_accuracy: 0.8580\n",
            "\n",
            "Epoch 00003: saving model to training_1/cp.ckpt\n",
            "Epoch 4/10\n",
            "32/32 [==============================] - 0s 7ms/step - loss: 0.2030 - accuracy: 0.9540 - val_loss: 0.4523 - val_accuracy: 0.8600\n",
            "\n",
            "Epoch 00004: saving model to training_1/cp.ckpt\n",
            "Epoch 5/10\n",
            "32/32 [==============================] - 0s 7ms/step - loss: 0.1457 - accuracy: 0.9690 - val_loss: 0.4395 - val_accuracy: 0.8620\n",
            "\n",
            "Epoch 00005: saving model to training_1/cp.ckpt\n",
            "Epoch 6/10\n",
            "32/32 [==============================] - 0s 7ms/step - loss: 0.1118 - accuracy: 0.9790 - val_loss: 0.4454 - val_accuracy: 0.8670\n",
            "\n",
            "Epoch 00006: saving model to training_1/cp.ckpt\n",
            "Epoch 7/10\n",
            "32/32 [==============================] - 0s 7ms/step - loss: 0.0795 - accuracy: 0.9910 - val_loss: 0.4224 - val_accuracy: 0.8630\n",
            "\n",
            "Epoch 00007: saving model to training_1/cp.ckpt\n",
            "Epoch 8/10\n",
            "32/32 [==============================] - 0s 7ms/step - loss: 0.0624 - accuracy: 0.9930 - val_loss: 0.4300 - val_accuracy: 0.8650\n",
            "\n",
            "Epoch 00008: saving model to training_1/cp.ckpt\n",
            "Epoch 9/10\n",
            "32/32 [==============================] - 0s 7ms/step - loss: 0.0499 - accuracy: 0.9950 - val_loss: 0.4445 - val_accuracy: 0.8620\n",
            "\n",
            "Epoch 00009: saving model to training_1/cp.ckpt\n",
            "Epoch 10/10\n",
            "32/32 [==============================] - 0s 7ms/step - loss: 0.0369 - accuracy: 1.0000 - val_loss: 0.4143 - val_accuracy: 0.8640\n",
            "\n",
            "Epoch 00010: saving model to training_1/cp.ckpt\n"
          ]
        },
        {
          "output_type": "execute_result",
          "data": {
            "text/plain": [
              "<keras.callbacks.History at 0x7f44f632ee90>"
            ]
          },
          "metadata": {},
          "execution_count": 9
        }
      ]
    },
    {
      "cell_type": "code",
      "metadata": {
        "colab": {
          "base_uri": "https://localhost:8080/"
        },
        "id": "TxZFr9ReLy4U",
        "outputId": "798db724-9e0c-4f58-8746-c266e956eea6"
      },
      "source": [
        "os.listdir(checkpoint_dir)"
      ],
      "execution_count": 10,
      "outputs": [
        {
          "output_type": "execute_result",
          "data": {
            "text/plain": [
              "['cp.ckpt.index', 'cp.ckpt.data-00000-of-00001', 'checkpoint']"
            ]
          },
          "metadata": {},
          "execution_count": 10
        }
      ]
    },
    {
      "cell_type": "code",
      "metadata": {
        "colab": {
          "base_uri": "https://localhost:8080/"
        },
        "id": "Sf-kuxtbL_w9",
        "outputId": "884a1570-d612-4458-ce2f-785dc8068497"
      },
      "source": [
        "model = create_model()\n",
        "\n",
        "loss, acc = model.evaluate(test_images , test_labels, verbose = 2)\n",
        "print('훈련되지 않은 모델의 정확도 : {:5.2f}%'.format(100*acc))"
      ],
      "execution_count": 11,
      "outputs": [
        {
          "output_type": "stream",
          "name": "stdout",
          "text": [
            "32/32 - 0s - loss: 2.3820 - accuracy: 0.1060\n",
            "훈련되지 않은 모델의 정확도 : 10.60%\n"
          ]
        }
      ]
    },
    {
      "cell_type": "code",
      "metadata": {
        "colab": {
          "base_uri": "https://localhost:8080/"
        },
        "id": "bQpX29uCMMuf",
        "outputId": "99b482a2-fccb-464a-9213-2aec643603a9"
      },
      "source": [
        "model.load_weights(checkpoint_path)\n",
        "\n",
        "loss, acc = model.evaluate(test_images, test_labels,verbose = 2)\n",
        "print('복원된 모델의 정확도: {:5.2f}%'.format(100*acc))"
      ],
      "execution_count": 13,
      "outputs": [
        {
          "output_type": "stream",
          "name": "stdout",
          "text": [
            "32/32 - 0s - loss: 0.4143 - accuracy: 0.8640\n",
            "복원된 모델의 정확도: 86.40%\n"
          ]
        }
      ]
    },
    {
      "cell_type": "code",
      "metadata": {
        "colab": {
          "base_uri": "https://localhost:8080/"
        },
        "id": "tg8bHD7zMYyN",
        "outputId": "fdaa75b6-b899-42ee-f792-4d434982a872"
      },
      "source": [
        "checkpoint_path = 'training_2/cp-{epoch:04d}.ckpt'\n",
        "checkpoint_dir = os.path.dirname(checkpoint_path)\n",
        "\n",
        "cp_callback = tf.keras.callbacks.ModelCheckpoint(\n",
        "    filepath = checkpoint_path, verbose = 1, save_weights_only = True, period = 5\n",
        ")\n",
        "\n",
        "model = create_model()\n",
        "model.save_weights(checkpoint_path.format(epoch = 0))\n",
        "\n",
        "model.fit(train_images, train_labels, epochs = 50, callbacks = [cp_callback], validation_data = (test_images, test_labels), verbose = 0)"
      ],
      "execution_count": 15,
      "outputs": [
        {
          "output_type": "stream",
          "name": "stdout",
          "text": [
            "WARNING:tensorflow:`period` argument is deprecated. Please use `save_freq` to specify the frequency in number of batches seen.\n",
            "\n",
            "Epoch 00005: saving model to training_2/cp-0005.ckpt\n",
            "\n",
            "Epoch 00010: saving model to training_2/cp-0010.ckpt\n",
            "\n",
            "Epoch 00015: saving model to training_2/cp-0015.ckpt\n",
            "\n",
            "Epoch 00020: saving model to training_2/cp-0020.ckpt\n",
            "\n",
            "Epoch 00025: saving model to training_2/cp-0025.ckpt\n",
            "\n",
            "Epoch 00030: saving model to training_2/cp-0030.ckpt\n",
            "\n",
            "Epoch 00035: saving model to training_2/cp-0035.ckpt\n",
            "\n",
            "Epoch 00040: saving model to training_2/cp-0040.ckpt\n",
            "\n",
            "Epoch 00045: saving model to training_2/cp-0045.ckpt\n",
            "\n",
            "Epoch 00050: saving model to training_2/cp-0050.ckpt\n"
          ]
        },
        {
          "output_type": "execute_result",
          "data": {
            "text/plain": [
              "<keras.callbacks.History at 0x7f44f62c3e90>"
            ]
          },
          "metadata": {},
          "execution_count": 15
        }
      ]
    },
    {
      "cell_type": "code",
      "metadata": {
        "colab": {
          "base_uri": "https://localhost:8080/"
        },
        "id": "C3G2bpJuM-Ue",
        "outputId": "bf180760-d4fc-4504-cabd-3b79a8b4aa20"
      },
      "source": [
        "os.listdir(checkpoint_dir)"
      ],
      "execution_count": 16,
      "outputs": [
        {
          "output_type": "execute_result",
          "data": {
            "text/plain": [
              "['cp-0000.ckpt.index',\n",
              " 'cp-0035.ckpt.index',\n",
              " 'cp-0025.ckpt.index',\n",
              " 'cp-0005.ckpt.data-00000-of-00001',\n",
              " 'cp-0000.ckpt.data-00000-of-00001',\n",
              " 'cp-0050.ckpt.data-00000-of-00001',\n",
              " 'cp-0030.ckpt.data-00000-of-00001',\n",
              " 'cp-0015.ckpt.index',\n",
              " 'cp-0040.ckpt.data-00000-of-00001',\n",
              " 'cp-0025.ckpt.data-00000-of-00001',\n",
              " 'cp-0015.ckpt.data-00000-of-00001',\n",
              " 'cp-0045.ckpt.index',\n",
              " 'cp-0035.ckpt.data-00000-of-00001',\n",
              " 'cp-0030.ckpt.index',\n",
              " 'cp-0050.ckpt.index',\n",
              " 'cp-0040.ckpt.index',\n",
              " 'cp-0020.ckpt.data-00000-of-00001',\n",
              " 'cp-0045.ckpt.data-00000-of-00001',\n",
              " 'cp-0010.ckpt.data-00000-of-00001',\n",
              " 'cp-0020.ckpt.index',\n",
              " 'cp-0010.ckpt.index',\n",
              " 'checkpoint',\n",
              " 'cp-0005.ckpt.index']"
            ]
          },
          "metadata": {},
          "execution_count": 16
        }
      ]
    },
    {
      "cell_type": "code",
      "metadata": {
        "colab": {
          "base_uri": "https://localhost:8080/",
          "height": 35
        },
        "id": "qq1oDAj3NGkQ",
        "outputId": "c1b7f265-48de-4277-fe76-6cdf763f135a"
      },
      "source": [
        "latest = tf.train.latest_checkpoint(checkpoint_dir)\n",
        "latest"
      ],
      "execution_count": 17,
      "outputs": [
        {
          "output_type": "execute_result",
          "data": {
            "application/vnd.google.colaboratory.intrinsic+json": {
              "type": "string"
            },
            "text/plain": [
              "'training_2/cp-0050.ckpt'"
            ]
          },
          "metadata": {},
          "execution_count": 17
        }
      ]
    },
    {
      "cell_type": "code",
      "metadata": {
        "colab": {
          "base_uri": "https://localhost:8080/"
        },
        "id": "WvYqNT-_NLW9",
        "outputId": "e3d56e31-03ea-4d3c-cec5-2cf79d4ff47b"
      },
      "source": [
        "model = create_model()\n",
        "\n",
        "model.load_weights(latest)\n",
        "\n",
        "loss, acc = model.evaluate(test_images, test_labels, verbose = 2)\n",
        "print('복원된 모델의 정확도: {:5.2f}%'.format(100 * acc))"
      ],
      "execution_count": 18,
      "outputs": [
        {
          "output_type": "stream",
          "name": "stdout",
          "text": [
            "32/32 - 0s - loss: 0.5093 - accuracy: 0.8740\n",
            "복원된 모델의 정확도: 87.40%\n"
          ]
        }
      ]
    },
    {
      "cell_type": "code",
      "metadata": {
        "colab": {
          "base_uri": "https://localhost:8080/"
        },
        "id": "tDCFu6S2NXTU",
        "outputId": "be29814c-84bf-4d32-b3fa-31ece8aa28c2"
      },
      "source": [
        "# 수동으로 가중치 저장\n",
        "\n",
        "model.save_weights('./checkpoints/my_checkpoint')\n",
        "\n",
        "model = create_model()\n",
        "\n",
        "model.load_weights('./checkpoints/my_checkpoint')\n",
        "\n",
        "loss,acc = model.evaluate(test_images,  test_labels, verbose=2)\n",
        "print(\"복원된 모델의 정확도: {:5.2f}%\".format(100*acc))"
      ],
      "execution_count": 19,
      "outputs": [
        {
          "output_type": "stream",
          "name": "stdout",
          "text": [
            "WARNING:tensorflow:Unresolved object in checkpoint: (root).optimizer.iter\n",
            "WARNING:tensorflow:Unresolved object in checkpoint: (root).optimizer.beta_1\n",
            "WARNING:tensorflow:Unresolved object in checkpoint: (root).optimizer.beta_2\n",
            "WARNING:tensorflow:Unresolved object in checkpoint: (root).optimizer.decay\n",
            "WARNING:tensorflow:Unresolved object in checkpoint: (root).optimizer.learning_rate\n",
            "WARNING:tensorflow:A checkpoint was restored (e.g. tf.train.Checkpoint.restore or tf.keras.Model.load_weights) but not all checkpointed values were used. See above for specific issues. Use expect_partial() on the load status object, e.g. tf.train.Checkpoint.restore(...).expect_partial(), to silence these warnings, or use assert_consumed() to make the check explicit. See https://www.tensorflow.org/guide/checkpoint#loading_mechanics for details.\n",
            "32/32 - 0s - loss: 0.5093 - accuracy: 0.8740\n",
            "복원된 모델의 정확도: 87.40%\n"
          ]
        }
      ]
    },
    {
      "cell_type": "code",
      "metadata": {
        "colab": {
          "base_uri": "https://localhost:8080/"
        },
        "id": "QvHRn0AhNfsc",
        "outputId": "250fa0ed-7b71-47f1-ab83-61f91f21de11"
      },
      "source": [
        "# 전체 모델 저장\n",
        "\n",
        "model = create_model()\n",
        "model.fit(train_images, train_labels, epochs = 5)\n",
        "\n",
        "!mkdir -p saved_model\n",
        "model.save('saved_model/my_model')"
      ],
      "execution_count": 20,
      "outputs": [
        {
          "output_type": "stream",
          "name": "stdout",
          "text": [
            "Epoch 1/5\n",
            "32/32 [==============================] - 0s 5ms/step - loss: 1.1567 - accuracy: 0.6650\n",
            "Epoch 2/5\n",
            "32/32 [==============================] - 0s 5ms/step - loss: 0.4376 - accuracy: 0.8800\n",
            "Epoch 3/5\n",
            "32/32 [==============================] - 0s 5ms/step - loss: 0.2987 - accuracy: 0.9200\n",
            "Epoch 4/5\n",
            "32/32 [==============================] - 0s 5ms/step - loss: 0.2136 - accuracy: 0.9530\n",
            "Epoch 5/5\n",
            "32/32 [==============================] - 0s 5ms/step - loss: 0.1607 - accuracy: 0.9610\n",
            "INFO:tensorflow:Assets written to: saved_model/my_model/assets\n"
          ]
        }
      ]
    },
    {
      "cell_type": "code",
      "metadata": {
        "colab": {
          "base_uri": "https://localhost:8080/"
        },
        "id": "NBl7dnb_OCG-",
        "outputId": "010b95f1-7069-4084-b1f0-eadcabf5e9c4"
      },
      "source": [
        "new_model = tf.keras.models.load_model('saved_model/my_model')\n",
        "\n",
        "new_model.summary()"
      ],
      "execution_count": 25,
      "outputs": [
        {
          "output_type": "stream",
          "name": "stdout",
          "text": [
            "Model: \"sequential_5\"\n",
            "_________________________________________________________________\n",
            "Layer (type)                 Output Shape              Param #   \n",
            "=================================================================\n",
            "dense_11 (Dense)             (None, 512)               401920    \n",
            "_________________________________________________________________\n",
            "dropout_5 (Dropout)          (None, 512)               0         \n",
            "_________________________________________________________________\n",
            "dense_12 (Dense)             (None, 10)                5130      \n",
            "=================================================================\n",
            "Total params: 407,050\n",
            "Trainable params: 407,050\n",
            "Non-trainable params: 0\n",
            "_________________________________________________________________\n"
          ]
        }
      ]
    },
    {
      "cell_type": "code",
      "metadata": {
        "colab": {
          "base_uri": "https://localhost:8080/"
        },
        "id": "-6rlk4CzOHii",
        "outputId": "7d0444db-4f30-4555-e61b-607b701287af"
      },
      "source": [
        "loss, acc = new_model.evaluate(test_images, test_labels, verbose = 2)\n",
        "\n",
        "print(new_model.predict(test_images).shape)"
      ],
      "execution_count": 27,
      "outputs": [
        {
          "output_type": "stream",
          "name": "stdout",
          "text": [
            "32/32 - 0s - loss: 0.4384 - accuracy: 0.8590\n",
            "(1000, 10)\n"
          ]
        }
      ]
    },
    {
      "cell_type": "code",
      "metadata": {
        "colab": {
          "base_uri": "https://localhost:8080/"
        },
        "id": "yCBunpFCP_zJ",
        "outputId": "b2de2306-5448-4a3d-dd33-b1b76842eec9"
      },
      "source": [
        "model = create_model()\n",
        "model.fit(train_images ,train_labels, epochs = 5)\n",
        "\n",
        "model.save('my_model.h5')"
      ],
      "execution_count": 28,
      "outputs": [
        {
          "output_type": "stream",
          "name": "stdout",
          "text": [
            "Epoch 1/5\n",
            "32/32 [==============================] - 0s 5ms/step - loss: 1.1953 - accuracy: 0.6660\n",
            "Epoch 2/5\n",
            "32/32 [==============================] - 0s 5ms/step - loss: 0.4241 - accuracy: 0.8800\n",
            "Epoch 3/5\n",
            "32/32 [==============================] - 0s 5ms/step - loss: 0.2835 - accuracy: 0.9230\n",
            "Epoch 4/5\n",
            "32/32 [==============================] - 0s 5ms/step - loss: 0.2196 - accuracy: 0.9440\n",
            "Epoch 5/5\n",
            "32/32 [==============================] - 0s 5ms/step - loss: 0.1656 - accuracy: 0.9620\n"
          ]
        }
      ]
    },
    {
      "cell_type": "code",
      "metadata": {
        "colab": {
          "base_uri": "https://localhost:8080/"
        },
        "id": "mrJf66w9QIv-",
        "outputId": "70130982-7b3e-438c-bef3-708babd5c1de"
      },
      "source": [
        "new_model = tf.keras.models.load_model('my_model.h5')\n",
        "\n",
        "new_model.summary()"
      ],
      "execution_count": 29,
      "outputs": [
        {
          "output_type": "stream",
          "name": "stdout",
          "text": [
            "Model: \"sequential_6\"\n",
            "_________________________________________________________________\n",
            "Layer (type)                 Output Shape              Param #   \n",
            "=================================================================\n",
            "dense_13 (Dense)             (None, 512)               401920    \n",
            "_________________________________________________________________\n",
            "dropout_6 (Dropout)          (None, 512)               0         \n",
            "_________________________________________________________________\n",
            "dense_14 (Dense)             (None, 10)                5130      \n",
            "=================================================================\n",
            "Total params: 407,050\n",
            "Trainable params: 407,050\n",
            "Non-trainable params: 0\n",
            "_________________________________________________________________\n"
          ]
        }
      ]
    },
    {
      "cell_type": "code",
      "metadata": {
        "colab": {
          "base_uri": "https://localhost:8080/"
        },
        "id": "2WXQ6X-zQOqY",
        "outputId": "50583b45-7f09-4867-9340-340921f138b0"
      },
      "source": [
        "loss, acc = new_model.evaluate(test_images, test_labels, verbose = 2)\n",
        "print('복원된 모델의 정확도: {:5.2f}%'.format(100*acc))"
      ],
      "execution_count": 31,
      "outputs": [
        {
          "output_type": "stream",
          "name": "stdout",
          "text": [
            "32/32 - 0s - loss: 0.4558 - accuracy: 0.8510\n",
            "복원된 모델의 정확도: 85.10%\n"
          ]
        }
      ]
    },
    {
      "cell_type": "code",
      "metadata": {
        "id": "r7S6a4UrQYxJ"
      },
      "source": [
        ""
      ],
      "execution_count": null,
      "outputs": []
    }
  ]
}