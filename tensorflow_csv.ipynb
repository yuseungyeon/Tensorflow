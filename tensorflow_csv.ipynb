{
  "nbformat": 4,
  "nbformat_minor": 0,
  "metadata": {
    "colab": {
      "name": "tensorflow_csv.ipynb",
      "provenance": [],
      "authorship_tag": "ABX9TyM1iYW7PcpezcVARNV7LqXz"
    },
    "kernelspec": {
      "name": "python3",
      "display_name": "Python 3"
    },
    "language_info": {
      "name": "python"
    }
  },
  "cells": [
    {
      "cell_type": "code",
      "metadata": {
        "id": "iamqOJTAnCFQ"
      },
      "source": [
        "import functools\n",
        "\n",
        "import numpy as np\n",
        "import tensorflow as tf"
      ],
      "execution_count": 1,
      "outputs": []
    },
    {
      "cell_type": "code",
      "metadata": {
        "colab": {
          "base_uri": "https://localhost:8080/"
        },
        "id": "CeNXPKGvn_6W",
        "outputId": "62bb288e-7871-4fe1-950c-be7b8b3f99e5"
      },
      "source": [
        "TRAIN_DATA_URL = \"https://storage.googleapis.com/tf-datasets/titanic/train.csv\"\n",
        "TEST_DATA_URL = \"https://storage.googleapis.com/tf-datasets/titanic/eval.csv\"\n",
        "\n",
        "train_file_path = tf.keras.utils.get_file(\"train.csv\", TRAIN_DATA_URL)\n",
        "test_file_path = tf.keras.utils.get_file(\"eval.csv\", TEST_DATA_URL)"
      ],
      "execution_count": 2,
      "outputs": [
        {
          "output_type": "stream",
          "name": "stdout",
          "text": [
            "Downloading data from https://storage.googleapis.com/tf-datasets/titanic/train.csv\n",
            "32768/30874 [===============================] - 0s 0us/step\n",
            "40960/30874 [=======================================] - 0s 0us/step\n",
            "Downloading data from https://storage.googleapis.com/tf-datasets/titanic/eval.csv\n",
            "16384/13049 [=====================================] - 0s 0us/step\n",
            "24576/13049 [========================================================] - 0s 0us/step\n"
          ]
        }
      ]
    },
    {
      "cell_type": "code",
      "metadata": {
        "id": "eTf8uJSaoD7B"
      },
      "source": [
        "np.set_printoptions(precision=3, suppress = True)"
      ],
      "execution_count": 3,
      "outputs": []
    },
    {
      "cell_type": "code",
      "metadata": {
        "id": "2rvDTgv1oKJO"
      },
      "source": [
        "LABEL_COLUMN = 'survived'\n",
        "LABELS = [0, 1]"
      ],
      "execution_count": 6,
      "outputs": []
    },
    {
      "cell_type": "code",
      "metadata": {
        "id": "Vkm8EJg5oNay"
      },
      "source": [
        "def get_dataset(file_path, **kwargs):\n",
        "  dataset = tf.data.experimental.make_csv_dataset(file_path, batch_size = 5,\n",
        "                                                  label_name = LABEL_COLUMN, na_value = '?',\n",
        "                                                  num_epochs = 1, ignore_errors = True, **kwargs)\n",
        "  return dataset\n",
        "\n",
        "raw_train_data = get_dataset(train_file_path)\n",
        "raw_test_data = get_dataset(test_file_path)"
      ],
      "execution_count": 7,
      "outputs": []
    },
    {
      "cell_type": "code",
      "metadata": {
        "id": "85ihx_Vzowzz"
      },
      "source": [
        "def show_batch(dataset):\n",
        "  for batch, label in dataset.take(1):\n",
        "    for key, value in batch.items():\n",
        "      print(\"{:20s}: {}\".format(key, value.numpy()))"
      ],
      "execution_count": 10,
      "outputs": []
    },
    {
      "cell_type": "code",
      "metadata": {
        "colab": {
          "base_uri": "https://localhost:8080/"
        },
        "id": "ZKKh68hxo7EF",
        "outputId": "2d0b155a-94ff-43c5-9f20-f6ef33b19696"
      },
      "source": [
        "show_batch(raw_train_data)"
      ],
      "execution_count": 11,
      "outputs": [
        {
          "output_type": "stream",
          "name": "stdout",
          "text": [
            "sex                 : [b'male' b'male' b'male' b'male' b'female']\n",
            "age                 : [16. 26.  2. 25. 28.]\n",
            "n_siblings_spouses  : [1 2 4 1 1]\n",
            "parch               : [3 0 1 0 0]\n",
            "fare                : [34.375  8.663 39.688 17.8   15.5  ]\n",
            "class               : [b'Third' b'Third' b'Third' b'Third' b'Third']\n",
            "deck                : [b'unknown' b'unknown' b'unknown' b'unknown' b'unknown']\n",
            "embark_town         : [b'Southampton' b'Southampton' b'Southampton' b'Southampton' b'Queenstown']\n",
            "alone               : [b'n' b'n' b'n' b'n' b'n']\n"
          ]
        }
      ]
    },
    {
      "cell_type": "code",
      "metadata": {
        "colab": {
          "base_uri": "https://localhost:8080/"
        },
        "id": "jPSxWz_hpAUB",
        "outputId": "129e4452-9897-421e-fcc9-8e3517bb035c"
      },
      "source": [
        "CSV_COLUMNS = ['survived', 'sex', 'age', 'n_siblings_spouse', 'parch', 'fare', 'class', 'deck', 'embark_town', 'alone']\n",
        "temp_dataset = get_dataset(train_file_path, column_names = CSV_COLUMNS)\n",
        "show_batch(temp_dataset)"
      ],
      "execution_count": 12,
      "outputs": [
        {
          "output_type": "stream",
          "name": "stdout",
          "text": [
            "sex                 : [b'male' b'male' b'female' b'male' b'female']\n",
            "age                 : [28.  20.5 45.  36.  40. ]\n",
            "n_siblings_spouse   : [0 0 1 1 1]\n",
            "parch               : [0 0 1 2 1]\n",
            "fare                : [  7.896   7.25  164.867  27.75   39.   ]\n",
            "class               : [b'Third' b'Third' b'First' b'Second' b'Second']\n",
            "deck                : [b'unknown' b'unknown' b'unknown' b'unknown' b'unknown']\n",
            "embark_town         : [b'Southampton' b'Southampton' b'Southampton' b'Southampton'\n",
            " b'Southampton']\n",
            "alone               : [b'y' b'y' b'n' b'n' b'n']\n"
          ]
        }
      ]
    },
    {
      "cell_type": "code",
      "metadata": {
        "colab": {
          "base_uri": "https://localhost:8080/"
        },
        "id": "k4Vdal3-pSEB",
        "outputId": "ceb18244-3919-4e4a-c875-1fd4d434e8c9"
      },
      "source": [
        "SELECT_COLUMNS = ['survived', 'age', 'n_siblings_spouses', 'class', 'deck', 'alone']\n",
        "temp_dataset = get_dataset(train_file_path, select_columns = SELECT_COLUMNS)\n",
        "show_batch(temp_dataset)"
      ],
      "execution_count": 14,
      "outputs": [
        {
          "output_type": "stream",
          "name": "stdout",
          "text": [
            "age                 : [32. 28. 48. 21. 35.]\n",
            "n_siblings_spouses  : [0 8 1 0 0]\n",
            "class               : [b'Third' b'Third' b'First' b'First' b'First']\n",
            "deck                : [b'E' b'unknown' b'A' b'D' b'unknown']\n",
            "alone               : [b'y' b'n' b'n' b'n' b'y']\n"
          ]
        }
      ]
    },
    {
      "cell_type": "code",
      "metadata": {
        "colab": {
          "base_uri": "https://localhost:8080/"
        },
        "id": "oOqcEA4tphUT",
        "outputId": "2c06f041-8747-49c8-d823-61832e9ac977"
      },
      "source": [
        "SELECT_COLUMNS = ['survived', 'age', 'n_siblings_spouses', 'parch', 'fare']\n",
        "DEFAULTS = [0, 0.0, 0.0, 0.0, 0.0]\n",
        "temp_dataset = get_dataset(train_file_path, select_columns = SELECT_COLUMNS, column_defaults = DEFAULTS)\n",
        "show_batch(temp_dataset)"
      ],
      "execution_count": 15,
      "outputs": [
        {
          "output_type": "stream",
          "name": "stdout",
          "text": [
            "age                 : [32. 40. 21. 34. 28.]\n",
            "n_siblings_spouses  : [0. 1. 0. 0. 1.]\n",
            "parch               : [0. 1. 0. 1. 0.]\n",
            "fare                : [56.496 39.    10.5   23.    15.85 ]\n"
          ]
        }
      ]
    },
    {
      "cell_type": "code",
      "metadata": {
        "id": "NhQVnNAbp2B4"
      },
      "source": [
        "example_batch, labels_batch = next(iter(temp_dataset))"
      ],
      "execution_count": 16,
      "outputs": []
    },
    {
      "cell_type": "code",
      "metadata": {
        "id": "Fah8mgSJp73-"
      },
      "source": [
        "def pack(features, label):\n",
        "  return tf.stack(list(features.values()), axis=-1), label"
      ],
      "execution_count": 20,
      "outputs": []
    },
    {
      "cell_type": "code",
      "metadata": {
        "colab": {
          "base_uri": "https://localhost:8080/"
        },
        "id": "UxUPuKpxqEA-",
        "outputId": "4d9872ab-733e-457e-b983-ef1be60560fc"
      },
      "source": [
        "packed_dataset = temp_dataset.map(pack)\n",
        "\n",
        "for features, labels in packed_dataset.take(1):\n",
        "  print(features.numpy())\n",
        "  print()\n",
        "  print(labels.numpy())"
      ],
      "execution_count": 22,
      "outputs": [
        {
          "output_type": "stream",
          "name": "stdout",
          "text": [
            "[[23.     0.     0.    15.046]\n",
            " [18.     0.     0.     9.842]\n",
            " [28.     0.     0.     7.75 ]\n",
            " [71.     0.     0.    49.504]\n",
            " [24.     1.     0.    26.   ]]\n",
            "\n",
            "[0 1 1 0 1]\n"
          ]
        }
      ]
    },
    {
      "cell_type": "code",
      "metadata": {
        "colab": {
          "base_uri": "https://localhost:8080/"
        },
        "id": "4QFFze8gqM72",
        "outputId": "10d1880c-ac47-4a16-bfff-552175b8f0d5"
      },
      "source": [
        "show_batch(raw_train_data)"
      ],
      "execution_count": 23,
      "outputs": [
        {
          "output_type": "stream",
          "name": "stdout",
          "text": [
            "sex                 : [b'male' b'female' b'male' b'female' b'female']\n",
            "age                 : [40.5 15.  28.  28.  24. ]\n",
            "n_siblings_spouses  : [0 0 0 2 0]\n",
            "parch               : [2 0 0 0 2]\n",
            "fare                : [14.5    7.225  8.05  23.25  16.7  ]\n",
            "class               : [b'Third' b'Third' b'Third' b'Third' b'Third']\n",
            "deck                : [b'unknown' b'unknown' b'unknown' b'unknown' b'G']\n",
            "embark_town         : [b'Southampton' b'Cherbourg' b'Southampton' b'Queenstown' b'Southampton']\n",
            "alone               : [b'n' b'y' b'y' b'n' b'n']\n"
          ]
        }
      ]
    },
    {
      "cell_type": "code",
      "metadata": {
        "id": "VFcGtea9qWbn"
      },
      "source": [
        "example_batch, labels_batch = next(iter(packed_train_data))"
      ],
      "execution_count": 49,
      "outputs": []
    },
    {
      "cell_type": "code",
      "metadata": {
        "id": "0iMYF-W9qcJq"
      },
      "source": [
        "class PackNumericFeatures(object):\n",
        "  def __init__(self, names):\n",
        "    self.names = names\n",
        "\n",
        "  def __call__(self, features, labels):\n",
        "    numeric_features = [features.pop(name) for name in self.names]\n",
        "    numeric_features = [tf.cast(feat, tf.float32) for feat in numeric_features]\n",
        "    numeric_features = tf.stack(numeric_features, axis=-1)\n",
        "    features['numeric'] = numeric_features\n",
        "\n",
        "    return features, labels"
      ],
      "execution_count": 41,
      "outputs": []
    },
    {
      "cell_type": "code",
      "metadata": {
        "id": "DAX2bWcrq0TW"
      },
      "source": [
        "NUMERIC_FEATURES = ['age','n_siblings_spouses','parch', 'fare']\n",
        "\n",
        "packed_train_data = raw_train_data.map(\n",
        "    PackNumericFeatures(NUMERIC_FEATURES))\n",
        "\n",
        "packed_test_data = raw_test_data.map(\n",
        "    PackNumericFeatures(NUMERIC_FEATURES))"
      ],
      "execution_count": 42,
      "outputs": []
    },
    {
      "cell_type": "code",
      "metadata": {
        "colab": {
          "base_uri": "https://localhost:8080/"
        },
        "id": "tfxWWTeQrDK5",
        "outputId": "885c68a0-c673-49f0-d813-bd3bccda4b3f"
      },
      "source": [
        "show_batch(packed_train_data)"
      ],
      "execution_count": 43,
      "outputs": [
        {
          "output_type": "stream",
          "name": "stdout",
          "text": [
            "sex                 : [b'female' b'female' b'male' b'male' b'female']\n",
            "class               : [b'Third' b'Second' b'Third' b'Third' b'Second']\n",
            "deck                : [b'unknown' b'unknown' b'unknown' b'unknown' b'unknown']\n",
            "embark_town         : [b'Southampton' b'Southampton' b'Southampton' b'Queenstown' b'Southampton']\n",
            "alone               : [b'y' b'y' b'y' b'n' b'n']\n",
            "numeric             : [[28.     0.     0.     7.55 ]\n",
            " [34.     0.     0.    13.   ]\n",
            " [24.     0.     0.     7.496]\n",
            " [ 2.     4.     1.    29.125]\n",
            " [ 2.     1.     1.    26.   ]]\n"
          ]
        }
      ]
    },
    {
      "cell_type": "markdown",
      "metadata": {
        "id": "wXQGAFlPrSmy"
      },
      "source": [
        "데이터 정규화"
      ]
    },
    {
      "cell_type": "code",
      "metadata": {
        "colab": {
          "base_uri": "https://localhost:8080/",
          "height": 295
        },
        "id": "hRLV7WIJrQjK",
        "outputId": "e02cd53b-628f-41a4-e0f9-242b2945338b"
      },
      "source": [
        "import pandas as pd\n",
        "desc = pd.read_csv(train_file_path)[NUMERIC_FEATURES].describe()\n",
        "desc"
      ],
      "execution_count": 44,
      "outputs": [
        {
          "output_type": "execute_result",
          "data": {
            "text/html": [
              "<div>\n",
              "<style scoped>\n",
              "    .dataframe tbody tr th:only-of-type {\n",
              "        vertical-align: middle;\n",
              "    }\n",
              "\n",
              "    .dataframe tbody tr th {\n",
              "        vertical-align: top;\n",
              "    }\n",
              "\n",
              "    .dataframe thead th {\n",
              "        text-align: right;\n",
              "    }\n",
              "</style>\n",
              "<table border=\"1\" class=\"dataframe\">\n",
              "  <thead>\n",
              "    <tr style=\"text-align: right;\">\n",
              "      <th></th>\n",
              "      <th>age</th>\n",
              "      <th>n_siblings_spouses</th>\n",
              "      <th>parch</th>\n",
              "      <th>fare</th>\n",
              "    </tr>\n",
              "  </thead>\n",
              "  <tbody>\n",
              "    <tr>\n",
              "      <th>count</th>\n",
              "      <td>627.000000</td>\n",
              "      <td>627.000000</td>\n",
              "      <td>627.000000</td>\n",
              "      <td>627.000000</td>\n",
              "    </tr>\n",
              "    <tr>\n",
              "      <th>mean</th>\n",
              "      <td>29.631308</td>\n",
              "      <td>0.545455</td>\n",
              "      <td>0.379585</td>\n",
              "      <td>34.385399</td>\n",
              "    </tr>\n",
              "    <tr>\n",
              "      <th>std</th>\n",
              "      <td>12.511818</td>\n",
              "      <td>1.151090</td>\n",
              "      <td>0.792999</td>\n",
              "      <td>54.597730</td>\n",
              "    </tr>\n",
              "    <tr>\n",
              "      <th>min</th>\n",
              "      <td>0.750000</td>\n",
              "      <td>0.000000</td>\n",
              "      <td>0.000000</td>\n",
              "      <td>0.000000</td>\n",
              "    </tr>\n",
              "    <tr>\n",
              "      <th>25%</th>\n",
              "      <td>23.000000</td>\n",
              "      <td>0.000000</td>\n",
              "      <td>0.000000</td>\n",
              "      <td>7.895800</td>\n",
              "    </tr>\n",
              "    <tr>\n",
              "      <th>50%</th>\n",
              "      <td>28.000000</td>\n",
              "      <td>0.000000</td>\n",
              "      <td>0.000000</td>\n",
              "      <td>15.045800</td>\n",
              "    </tr>\n",
              "    <tr>\n",
              "      <th>75%</th>\n",
              "      <td>35.000000</td>\n",
              "      <td>1.000000</td>\n",
              "      <td>0.000000</td>\n",
              "      <td>31.387500</td>\n",
              "    </tr>\n",
              "    <tr>\n",
              "      <th>max</th>\n",
              "      <td>80.000000</td>\n",
              "      <td>8.000000</td>\n",
              "      <td>5.000000</td>\n",
              "      <td>512.329200</td>\n",
              "    </tr>\n",
              "  </tbody>\n",
              "</table>\n",
              "</div>"
            ],
            "text/plain": [
              "              age  n_siblings_spouses       parch        fare\n",
              "count  627.000000          627.000000  627.000000  627.000000\n",
              "mean    29.631308            0.545455    0.379585   34.385399\n",
              "std     12.511818            1.151090    0.792999   54.597730\n",
              "min      0.750000            0.000000    0.000000    0.000000\n",
              "25%     23.000000            0.000000    0.000000    7.895800\n",
              "50%     28.000000            0.000000    0.000000   15.045800\n",
              "75%     35.000000            1.000000    0.000000   31.387500\n",
              "max     80.000000            8.000000    5.000000  512.329200"
            ]
          },
          "metadata": {},
          "execution_count": 44
        }
      ]
    },
    {
      "cell_type": "code",
      "metadata": {
        "id": "0ElVeFsvrY6K"
      },
      "source": [
        "MEAN = np.array(desc.T['mean'])\n",
        "STD = np.array(desc.T['std'])"
      ],
      "execution_count": 45,
      "outputs": []
    },
    {
      "cell_type": "code",
      "metadata": {
        "id": "GErsh6CGreC3"
      },
      "source": [
        "def normalize_numeric_data(data, mean, std):\n",
        "  return (data-mean)/std"
      ],
      "execution_count": 46,
      "outputs": []
    },
    {
      "cell_type": "code",
      "metadata": {
        "colab": {
          "base_uri": "https://localhost:8080/"
        },
        "id": "9IT1SLwbrijj",
        "outputId": "0b66170e-097f-41b6-c83a-e4d98de29334"
      },
      "source": [
        "normalizer = functools.partial(normalize_numeric_data, mean=MEAN, std=STD)\n",
        "\n",
        "numeric_column = tf.feature_column.numeric_column('numeric', normalizer_fn=normalizer, shape=[len(NUMERIC_FEATURES)])\n",
        "numeric_columns = [numeric_column]\n",
        "numeric_column"
      ],
      "execution_count": 47,
      "outputs": [
        {
          "output_type": "execute_result",
          "data": {
            "text/plain": [
              "NumericColumn(key='numeric', shape=(4,), default_value=None, dtype=tf.float32, normalizer_fn=functools.partial(<function normalize_numeric_data at 0x7eff5d4310e0>, mean=array([29.631,  0.545,  0.38 , 34.385]), std=array([12.512,  1.151,  0.793, 54.598])))"
            ]
          },
          "metadata": {},
          "execution_count": 47
        }
      ]
    },
    {
      "cell_type": "code",
      "metadata": {
        "colab": {
          "base_uri": "https://localhost:8080/"
        },
        "id": "IwH7gDSeuD-E",
        "outputId": "e6a9e296-96e5-404f-ae11-12b9e84b5af0"
      },
      "source": [
        "example_batch['numeric']"
      ],
      "execution_count": 51,
      "outputs": [
        {
          "output_type": "execute_result",
          "data": {
            "text/plain": [
              "<tf.Tensor: shape=(5, 4), dtype=float32, numpy=\n",
              "array([[26.   ,  0.   ,  0.   ,  7.887],\n",
              "       [18.   ,  0.   ,  1.   , 23.   ],\n",
              "       [ 9.   ,  4.   ,  2.   , 31.388],\n",
              "       [22.   ,  0.   ,  0.   ,  9.   ],\n",
              "       [28.   ,  0.   ,  0.   , 26.   ]], dtype=float32)>"
            ]
          },
          "metadata": {},
          "execution_count": 51
        }
      ]
    },
    {
      "cell_type": "code",
      "metadata": {
        "colab": {
          "base_uri": "https://localhost:8080/"
        },
        "id": "6FDsxlePtAtK",
        "outputId": "12feb2bc-3794-4147-aa84-1c98322da186"
      },
      "source": [
        "numeric_layer = tf.keras.layers.DenseFeatures(numeric_columns)\n",
        "numeric_layer(example_batch).numpy()"
      ],
      "execution_count": 50,
      "outputs": [
        {
          "output_type": "execute_result",
          "data": {
            "text/plain": [
              "array([[-0.29 , -0.474, -0.479, -0.485],\n",
              "       [-0.93 , -0.474,  0.782, -0.209],\n",
              "       [-1.649,  3.001,  2.043, -0.055],\n",
              "       [-0.61 , -0.474, -0.479, -0.465],\n",
              "       [-0.13 , -0.474, -0.479, -0.154]], dtype=float32)"
            ]
          },
          "metadata": {},
          "execution_count": 50
        }
      ]
    },
    {
      "cell_type": "code",
      "metadata": {
        "id": "WbqGbe1BtJDD"
      },
      "source": [
        "CATEGORIES = {\n",
        "    'sex':['male', 'female'],\n",
        "    'class':['First', 'Second', 'Third'],\n",
        "    'deck':['A', 'B', 'C', 'D', 'E', 'F', 'G', 'H', 'I', 'J'],\n",
        "    'embark_town':['Cherbourg', 'Southhampton', 'Queenstown'],\n",
        "    'alone':['y','n']\n",
        "}"
      ],
      "execution_count": 54,
      "outputs": []
    },
    {
      "cell_type": "code",
      "metadata": {
        "id": "ohjWUIMUuZ_0"
      },
      "source": [
        "categorical_columns = []\n",
        "for feature, vocab in CATEGORIES.items():\n",
        "  cat_col = tf.feature_column.categorical_column_with_vocabulary_list(key = feature, vocabulary_list = vocab)\n",
        "  categorical_columns.append(tf.feature_column.indicator_column(cat_col))"
      ],
      "execution_count": 55,
      "outputs": []
    },
    {
      "cell_type": "code",
      "metadata": {
        "colab": {
          "base_uri": "https://localhost:8080/"
        },
        "id": "pPn1EUxEutLx",
        "outputId": "f0257203-5617-4cf9-b8b9-c75a7bed6ed7"
      },
      "source": [
        "categorical_columns"
      ],
      "execution_count": 56,
      "outputs": [
        {
          "output_type": "execute_result",
          "data": {
            "text/plain": [
              "[IndicatorColumn(categorical_column=VocabularyListCategoricalColumn(key='sex', vocabulary_list=('male', 'female'), dtype=tf.string, default_value=-1, num_oov_buckets=0)),\n",
              " IndicatorColumn(categorical_column=VocabularyListCategoricalColumn(key='class', vocabulary_list=('First', 'Second', 'Third'), dtype=tf.string, default_value=-1, num_oov_buckets=0)),\n",
              " IndicatorColumn(categorical_column=VocabularyListCategoricalColumn(key='deck', vocabulary_list=('A', 'B', 'C', 'D', 'E', 'F', 'G', 'H', 'I', 'J'), dtype=tf.string, default_value=-1, num_oov_buckets=0)),\n",
              " IndicatorColumn(categorical_column=VocabularyListCategoricalColumn(key='embark_town', vocabulary_list=('Cherbourg', 'Southhampton', 'Queenstown'), dtype=tf.string, default_value=-1, num_oov_buckets=0)),\n",
              " IndicatorColumn(categorical_column=VocabularyListCategoricalColumn(key='alone', vocabulary_list=('y', 'n'), dtype=tf.string, default_value=-1, num_oov_buckets=0))]"
            ]
          },
          "metadata": {},
          "execution_count": 56
        }
      ]
    },
    {
      "cell_type": "code",
      "metadata": {
        "colab": {
          "base_uri": "https://localhost:8080/"
        },
        "id": "DYs7aGq5uutg",
        "outputId": "9c3a0032-e823-42bc-f546-48b262ee0937"
      },
      "source": [
        "categorical_layer = tf.keras.layers.DenseFeatures(categorical_columns)\n",
        "print(categorical_layer(example_batch).numpy()[0])"
      ],
      "execution_count": 59,
      "outputs": [
        {
          "output_type": "stream",
          "name": "stdout",
          "text": [
            "[1. 0. 0. 0. 1. 0. 0. 0. 0. 0. 0. 0. 0. 0. 0. 0. 0. 0. 1. 0.]\n"
          ]
        }
      ]
    },
    {
      "cell_type": "code",
      "metadata": {
        "id": "WsWrerbgu02Z"
      },
      "source": [
        "preprocessing_layer = tf.keras.layers.DenseFeatures(categorical_columns + numeric_columns)"
      ],
      "execution_count": 62,
      "outputs": []
    },
    {
      "cell_type": "code",
      "metadata": {
        "colab": {
          "base_uri": "https://localhost:8080/"
        },
        "id": "dOIbXkdJvAHk",
        "outputId": "57b98696-f99f-4f0f-b027-3739ab5a9f47"
      },
      "source": [
        "print(preprocessing_layer(example_batch).numpy()[0])"
      ],
      "execution_count": 63,
      "outputs": [
        {
          "output_type": "stream",
          "name": "stdout",
          "text": [
            "[ 1.     0.     0.     0.     1.     0.     0.     0.     0.     0.\n",
            "  0.     0.     0.     0.     0.     0.     0.     0.    -0.29  -0.474\n",
            " -0.479 -0.485  1.     0.   ]\n"
          ]
        }
      ]
    },
    {
      "cell_type": "code",
      "metadata": {
        "id": "GQ-MjuXdvG_i"
      },
      "source": [
        " model = tf.keras.Sequential([\n",
        "                              preprocessing_layer,\n",
        "                              tf.keras.layers.Dense(128, activation = 'relu'),\n",
        "                              tf.keras.layers.Dense(128, activation = 'relu'),\n",
        "                              tf.keras.layers.Dense(1),\n",
        " ])\n",
        "\n",
        " model.compile(loss = tf.keras.losses.BinaryCrossentropy(from_logits = True), optimizer = 'adam', metrics = ['accuracy'])"
      ],
      "execution_count": 64,
      "outputs": []
    },
    {
      "cell_type": "code",
      "metadata": {
        "id": "lkqIX_QXvc6Y"
      },
      "source": [
        "train_data = packed_train_data.shuffle(500)\n",
        "test_data = packed_test_data"
      ],
      "execution_count": 65,
      "outputs": []
    },
    {
      "cell_type": "code",
      "metadata": {
        "colab": {
          "base_uri": "https://localhost:8080/"
        },
        "id": "DnuwQKxzvoD9",
        "outputId": "604413d6-62a1-4bbb-99fd-6e135be3cb3a"
      },
      "source": [
        "model.fit(train_data, epochs = 20)"
      ],
      "execution_count": 66,
      "outputs": [
        {
          "output_type": "stream",
          "name": "stdout",
          "text": [
            "Epoch 1/20\n",
            "WARNING:tensorflow:Layers in a Sequential model should only have a single input tensor, but we receive a <class 'collections.OrderedDict'> input: OrderedDict([('sex', <tf.Tensor 'ExpandDims_4:0' shape=(None, 1) dtype=string>), ('class', <tf.Tensor 'ExpandDims_1:0' shape=(None, 1) dtype=string>), ('deck', <tf.Tensor 'ExpandDims_2:0' shape=(None, 1) dtype=string>), ('embark_town', <tf.Tensor 'ExpandDims_3:0' shape=(None, 1) dtype=string>), ('alone', <tf.Tensor 'ExpandDims:0' shape=(None, 1) dtype=string>), ('numeric', <tf.Tensor 'IteratorGetNext:4' shape=(None, 4) dtype=float32>)])\n",
            "Consider rewriting this model with the Functional API.\n",
            "WARNING:tensorflow:Layers in a Sequential model should only have a single input tensor, but we receive a <class 'collections.OrderedDict'> input: OrderedDict([('sex', <tf.Tensor 'ExpandDims_4:0' shape=(None, 1) dtype=string>), ('class', <tf.Tensor 'ExpandDims_1:0' shape=(None, 1) dtype=string>), ('deck', <tf.Tensor 'ExpandDims_2:0' shape=(None, 1) dtype=string>), ('embark_town', <tf.Tensor 'ExpandDims_3:0' shape=(None, 1) dtype=string>), ('alone', <tf.Tensor 'ExpandDims:0' shape=(None, 1) dtype=string>), ('numeric', <tf.Tensor 'IteratorGetNext:4' shape=(None, 4) dtype=float32>)])\n",
            "Consider rewriting this model with the Functional API.\n",
            "126/126 [==============================] - 2s 3ms/step - loss: 0.5093 - accuracy: 0.7225\n",
            "Epoch 2/20\n",
            "126/126 [==============================] - 0s 3ms/step - loss: 0.4182 - accuracy: 0.8102\n",
            "Epoch 3/20\n",
            "126/126 [==============================] - 0s 2ms/step - loss: 0.4056 - accuracy: 0.8198\n",
            "Epoch 4/20\n",
            "126/126 [==============================] - 0s 2ms/step - loss: 0.3898 - accuracy: 0.8373\n",
            "Epoch 5/20\n",
            "126/126 [==============================] - 0s 2ms/step - loss: 0.3792 - accuracy: 0.8293\n",
            "Epoch 6/20\n",
            "126/126 [==============================] - 0s 2ms/step - loss: 0.3750 - accuracy: 0.8437\n",
            "Epoch 7/20\n",
            "126/126 [==============================] - 0s 2ms/step - loss: 0.3644 - accuracy: 0.8373\n",
            "Epoch 8/20\n",
            "126/126 [==============================] - 0s 2ms/step - loss: 0.3558 - accuracy: 0.8437\n",
            "Epoch 9/20\n",
            "126/126 [==============================] - 0s 2ms/step - loss: 0.3449 - accuracy: 0.8501\n",
            "Epoch 10/20\n",
            "126/126 [==============================] - 0s 2ms/step - loss: 0.3432 - accuracy: 0.8485\n",
            "Epoch 11/20\n",
            "126/126 [==============================] - 0s 2ms/step - loss: 0.3391 - accuracy: 0.8549\n",
            "Epoch 12/20\n",
            "126/126 [==============================] - 0s 2ms/step - loss: 0.3314 - accuracy: 0.8612\n",
            "Epoch 13/20\n",
            "126/126 [==============================] - 0s 2ms/step - loss: 0.3295 - accuracy: 0.8533\n",
            "Epoch 14/20\n",
            "126/126 [==============================] - 0s 2ms/step - loss: 0.3270 - accuracy: 0.8501\n",
            "Epoch 15/20\n",
            "126/126 [==============================] - 0s 2ms/step - loss: 0.3214 - accuracy: 0.8612\n",
            "Epoch 16/20\n",
            "126/126 [==============================] - 0s 2ms/step - loss: 0.3201 - accuracy: 0.8708\n",
            "Epoch 17/20\n",
            "126/126 [==============================] - 0s 3ms/step - loss: 0.3161 - accuracy: 0.8676\n",
            "Epoch 18/20\n",
            "126/126 [==============================] - 0s 3ms/step - loss: 0.3100 - accuracy: 0.8596\n",
            "Epoch 19/20\n",
            "126/126 [==============================] - 0s 3ms/step - loss: 0.3135 - accuracy: 0.8644\n",
            "Epoch 20/20\n",
            "126/126 [==============================] - 0s 3ms/step - loss: 0.3029 - accuracy: 0.8628\n"
          ]
        },
        {
          "output_type": "execute_result",
          "data": {
            "text/plain": [
              "<keras.callbacks.History at 0x7eff58a0b550>"
            ]
          },
          "metadata": {},
          "execution_count": 66
        }
      ]
    },
    {
      "cell_type": "code",
      "metadata": {
        "colab": {
          "base_uri": "https://localhost:8080/"
        },
        "id": "s7yj3Sw5vqBh",
        "outputId": "45d812d1-3d3b-4955-f661-4378633ca443"
      },
      "source": [
        "test_loss, test_accuracy = model.evaluate(test_data)\n",
        "print('\\n\\nTest Loss {}, Test Accuracy {}'.format(test_loss, test_accuracy))"
      ],
      "execution_count": 67,
      "outputs": [
        {
          "output_type": "stream",
          "name": "stdout",
          "text": [
            "WARNING:tensorflow:Layers in a Sequential model should only have a single input tensor, but we receive a <class 'collections.OrderedDict'> input: OrderedDict([('sex', <tf.Tensor 'ExpandDims_4:0' shape=(None, 1) dtype=string>), ('class', <tf.Tensor 'ExpandDims_1:0' shape=(None, 1) dtype=string>), ('deck', <tf.Tensor 'ExpandDims_2:0' shape=(None, 1) dtype=string>), ('embark_town', <tf.Tensor 'ExpandDims_3:0' shape=(None, 1) dtype=string>), ('alone', <tf.Tensor 'ExpandDims:0' shape=(None, 1) dtype=string>), ('numeric', <tf.Tensor 'IteratorGetNext:4' shape=(None, 4) dtype=float32>)])\n",
            "Consider rewriting this model with the Functional API.\n",
            "53/53 [==============================] - 0s 2ms/step - loss: 0.4589 - accuracy: 0.8409\n",
            "\n",
            "\n",
            "Test Loss 0.4589184522628784, Test Accuracy 0.8409090638160706\n"
          ]
        }
      ]
    },
    {
      "cell_type": "code",
      "metadata": {
        "colab": {
          "base_uri": "https://localhost:8080/"
        },
        "id": "LJ_2uexgvv-_",
        "outputId": "ead854a3-6484-4703-8730-3b9d99173a0d"
      },
      "source": [
        "predictions = model.predict(test_data)\n",
        "\n",
        "for prediction, survived in zip(predictions[:10], list(test_data)[0][1][:10]):\n",
        "  prediction = tf.sigmoid(prediction).numpy()\n",
        "  print(\"Predicted survival: {:.2%}\".format(prediction[0]),\n",
        "        \" | Actual outcome: \",\n",
        "        (\"SURVIVED\" if bool(survived) else \"DIED\"))"
      ],
      "execution_count": 69,
      "outputs": [
        {
          "output_type": "stream",
          "name": "stdout",
          "text": [
            "Predicted survival: 61.24%  | Actual outcome:  DIED\n",
            "Predicted survival: 16.91%  | Actual outcome:  SURVIVED\n",
            "Predicted survival: 94.44%  | Actual outcome:  DIED\n",
            "Predicted survival: 55.36%  | Actual outcome:  DIED\n",
            "Predicted survival: 47.49%  | Actual outcome:  DIED\n"
          ]
        }
      ]
    },
    {
      "cell_type": "code",
      "metadata": {
        "id": "b5F9IjK0wHPr"
      },
      "source": [
        ""
      ],
      "execution_count": null,
      "outputs": []
    }
  ]
}